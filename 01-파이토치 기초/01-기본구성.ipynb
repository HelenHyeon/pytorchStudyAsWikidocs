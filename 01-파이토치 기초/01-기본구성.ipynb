{
 "cells": [
  {
   "cell_type": "markdown",
   "source": [
    "# 1. PyTorch 기본 구성"
   ],
   "metadata": {}
  },
  {
   "cell_type": "markdown",
   "source": [
    "## 1. torch\r\n",
    "- 메인 네임스페이스이다. 텐서 등 다양한 수학 함수가 포함되어 있으며 numpy와 유사하다.\r\n",
    "\r\n",
    "## 2. torch.autograd\r\n",
    "- 콘텍스트 매니저(enable_grad/no_grad)나 Function(자체 미분 함수 정의 기반 클래스) 등과 자동 미분을 위한 함수들이 포함되어 있다.\r\n",
    "\r\n",
    "## 3. torch.nn\r\n",
    "- ReLU와 같은 신경망 구축을 위한 다양한 데이터 구조나 RNN, LSTM등과 같은 레이어 등이 정의되어 있다.\r\n",
    "\r\n",
    "## 4. torch.optim\r\n",
    "- SGD(확률적 경사 하강법)를 중심으로 파라미터 최적화 알고리즘이 구현되어 있다.\r\n",
    "\r\n",
    "## 5. torch.utils.data\r\n",
    "- SGD 반복 연산 실행시 사용하는 미니 배치용 유틸리티 함수가 포함되어 있다.\r\n",
    "\r\n",
    "## 6. torch.onnx\r\n",
    "- ONNX(딥 러닝 프레임워크 간 모델 공유시 사용하는 포맷)의 포맷으로 모델을 export할 때 사용한다."
   ],
   "metadata": {}
  },
  {
   "cell_type": "markdown",
   "source": [
    "# 2. Tensor 이해"
   ],
   "metadata": {}
  },
  {
   "cell_type": "markdown",
   "source": [
    "> ![데이터 단위](../img/tensor1.png)\r\n",
    "> - 스칼라 : 차원이 없는 값\r\n",
    "> - 벡터 : 1차원으로 구성된 값\r\n",
    "> - 행렬 : 2차원으로 구성된 값\r\n",
    "> - 텐서 : 3차원으로 구성된 값\r\n",
    "> - 3차원 이상의 텐서는 그냥 다차원 행렬이나 배열로 간주할 수 있다."
   ],
   "metadata": {}
  },
  {
   "cell_type": "markdown",
   "source": [
    "## 2D Tensor\r\n",
    "- |t| = (Batch size(세로), Dimension(가로))\r\n",
    "## 3D Tensor - vision\r\n",
    "![3D tensor - vision](../img/tensor5.png)\r\n",
    "- |t| = (Batch size(세로), Width(가로), Height(높이))\r\n",
    "## 3D Tensor - NLP\r\n",
    "![3D tensor - vision](../img/tensor6.png)\r\n",
    "- |t| = (Batch size, Length(문장 길이), dim(단어 벡터 차원))"
   ],
   "metadata": {}
  }
 ],
 "metadata": {
  "kernelspec": {
   "name": "python3",
   "display_name": "Python 3.8.10 64-bit ('mypython': conda)"
  },
  "language_info": {
   "codemirror_mode": {
    "name": "ipython",
    "version": 3
   },
   "file_extension": ".py",
   "mimetype": "text/x-python",
   "name": "python",
   "nbconvert_exporter": "python",
   "pygments_lexer": "ipython3",
   "version": "3.8.10"
  },
  "metadata": {
   "interpreter": {
    "hash": "1fb55649b21e2e38c2c3f809ad651471691f92de4572ab4bb70d6a4ec3031b65"
   }
  },
  "orig_nbformat": 2,
  "interpreter": {
   "hash": "4ec0d6744e66ecfc688f4170088190c83bedd5c3e23a3834e310fe074b47c7e6"
  }
 },
 "nbformat": 4,
 "nbformat_minor": 2
}