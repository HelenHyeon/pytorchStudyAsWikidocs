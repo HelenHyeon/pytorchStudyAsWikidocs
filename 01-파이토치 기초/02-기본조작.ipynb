{
 "cells": [
  {
   "cell_type": "markdown",
   "source": [
    "# Numpy를 이용해 텐서 만들기"
   ],
   "metadata": {}
  },
  {
   "cell_type": "code",
   "execution_count": 1,
   "source": [
    "import numpy as np"
   ],
   "outputs": [],
   "metadata": {}
  },
  {
   "cell_type": "code",
   "execution_count": 2,
   "source": [
    "# 1차원 텐서 (벡터)\r\n",
    "t = np.array([0., 1., 2., 3., 4., 5., 6.])\r\n",
    "print(t)"
   ],
   "outputs": [
    {
     "output_type": "stream",
     "name": "stdout",
     "text": [
      "[0. 1. 2. 3. 4. 5. 6.]\n"
     ]
    }
   ],
   "metadata": {}
  },
  {
   "cell_type": "code",
   "execution_count": 3,
   "source": [
    "print('Rank of t: ', t.ndim)\r\n",
    "print('Shape of t: ', t.shape)"
   ],
   "outputs": [
    {
     "output_type": "stream",
     "name": "stdout",
     "text": [
      "Rank of t:  1\n",
      "Shape of t:  (7,)\n"
     ]
    }
   ],
   "metadata": {}
  },
  {
   "cell_type": "code",
   "execution_count": 4,
   "source": [
    "# 2차원 텐서 (행렬)\r\n",
    "t = np.array([[1., 2., 3.], [4., 5., 6.], [7., 8., 9.], [10., 11., 12.]])\r\n",
    "print(t)"
   ],
   "outputs": [
    {
     "output_type": "stream",
     "name": "stdout",
     "text": [
      "[[ 1.  2.  3.]\n",
      " [ 4.  5.  6.]\n",
      " [ 7.  8.  9.]\n",
      " [10. 11. 12.]]\n"
     ]
    }
   ],
   "metadata": {}
  },
  {
   "cell_type": "code",
   "execution_count": 5,
   "source": [
    "print('Rank  of t: ', t.ndim)\r\n",
    "print('Shape of t: ', t.shape)"
   ],
   "outputs": [
    {
     "output_type": "stream",
     "name": "stdout",
     "text": [
      "Rank  of t:  2\n",
      "Shape of t:  (4, 3)\n"
     ]
    }
   ],
   "metadata": {}
  },
  {
   "cell_type": "markdown",
   "source": [
    "# PyTorch를 이용해 텐서 만들기"
   ],
   "metadata": {}
  },
  {
   "cell_type": "code",
   "execution_count": 6,
   "source": [
    "import torch"
   ],
   "outputs": [],
   "metadata": {}
  },
  {
   "cell_type": "markdown",
   "source": [
    "### 1차원 텐서"
   ],
   "metadata": {}
  },
  {
   "cell_type": "code",
   "execution_count": 7,
   "source": [
    "t = torch.FloatTensor([0., 1., 2., 3., 4., 5., 6.])\r\n",
    "print(t, '\\n')\r\n",
    "\r\n",
    "print(t.dim())  # rank (차원)\r\n",
    "print(t.shape)  # shape\r\n",
    "print(t.size()) # shape"
   ],
   "outputs": [
    {
     "output_type": "stream",
     "name": "stdout",
     "text": [
      "tensor([0., 1., 2., 3., 4., 5., 6.]) \n",
      "\n",
      "1\n",
      "torch.Size([7])\n",
      "torch.Size([7])\n"
     ]
    }
   ],
   "metadata": {}
  },
  {
   "cell_type": "markdown",
   "source": [
    "### 2차원 텐서"
   ],
   "metadata": {}
  },
  {
   "cell_type": "code",
   "execution_count": 8,
   "source": [
    "t = torch.FloatTensor([[1., 2., 3.], [4., 5., 6.], [7., 8., 9.], [10., 11., 12.]])\r\n",
    "print(t, '\\n')\r\n",
    "\r\n",
    "print(t.dim())  # rank\r\n",
    "print(t.size()) # shape"
   ],
   "outputs": [
    {
     "output_type": "stream",
     "name": "stdout",
     "text": [
      "tensor([[ 1.,  2.,  3.],\n",
      "        [ 4.,  5.,  6.],\n",
      "        [ 7.,  8.,  9.],\n",
      "        [10., 11., 12.]]) \n",
      "\n",
      "2\n",
      "torch.Size([4, 3])\n"
     ]
    }
   ],
   "metadata": {}
  },
  {
   "cell_type": "markdown",
   "source": [
    "### 브로드캐스팅"
   ],
   "metadata": {}
  },
  {
   "cell_type": "code",
   "execution_count": 9,
   "source": [
    "# 두 행렬의 크기가 같을 때의 연산\r\n",
    "m1 = torch.FloatTensor([[3, 3]])\r\n",
    "m2 = torch.FloatTensor([[2, 2]])\r\n",
    "print(m1 + m2)"
   ],
   "outputs": [
    {
     "output_type": "stream",
     "name": "stdout",
     "text": [
      "tensor([[5., 5.]])\n"
     ]
    }
   ],
   "metadata": {}
  },
  {
   "cell_type": "code",
   "execution_count": 10,
   "source": [
    "# 두 텐서의 크기가 다를 때의 연산\r\n",
    "\r\n",
    "# Vector + scalar\r\n",
    "m1 = torch.FloatTensor([[1, 2]])\r\n",
    "m2 = torch.FloatTensor([3]) # [3, 3]\r\n",
    "print(m1 + m2)"
   ],
   "outputs": [
    {
     "output_type": "stream",
     "name": "stdout",
     "text": [
      "tensor([[4., 5.]])\n"
     ]
    }
   ],
   "metadata": {}
  },
  {
   "cell_type": "code",
   "execution_count": 11,
   "source": [
    "# 2 x 1 Vector + 1 x 2 Vector\r\n",
    "m1 = torch.FloatTensor([[1, 2]]) # [[1, 2], [1, 2]]\r\n",
    "m2 = torch.FloatTensor([[3], [4]]) # [[3, 3], [4, 4]]\r\n",
    "print(m1 + m2)"
   ],
   "outputs": [
    {
     "output_type": "stream",
     "name": "stdout",
     "text": [
      "tensor([[4., 5.],\n",
      "        [5., 6.]])\n"
     ]
    }
   ],
   "metadata": {}
  },
  {
   "cell_type": "markdown",
   "source": [
    "## 간단한 기능"
   ],
   "metadata": {}
  },
  {
   "cell_type": "markdown",
   "source": [
    "### 행렬 곱셈과 원소 별 곱셈"
   ],
   "metadata": {}
  },
  {
   "cell_type": "code",
   "execution_count": 12,
   "source": [
    "# 행렬 곱셈\r\n",
    "m1 = torch.FloatTensor([[1, 2], [3, 4]])\r\n",
    "m2 = torch.FloatTensor([[1], [2]])\r\n",
    "print('Shape of Matrix 1: ', m1.shape) # 2 * 2\r\n",
    "print('Shape of Matrix 2: ', m2.shape) # 2 * 1\r\n",
    "print(m1.matmul(m2)) # 2 * 1"
   ],
   "outputs": [
    {
     "output_type": "stream",
     "name": "stdout",
     "text": [
      "Shape of Matrix 1:  torch.Size([2, 2])\n",
      "Shape of Matrix 2:  torch.Size([2, 1])\n",
      "tensor([[ 5.],\n",
      "        [11.]])\n"
     ]
    }
   ],
   "metadata": {}
  },
  {
   "cell_type": "code",
   "execution_count": 13,
   "source": [
    "# element-wise 곱셈 (브로드캐스팅이 된 후 수행)\r\n",
    "m1 = torch.FloatTensor([[1, 2], [3, 4]])\r\n",
    "m2 = torch.FloatTensor([[1], [2]])\r\n",
    "print('Shape of Matrix 1: ', m1.shape) # 2 x 2\r\n",
    "print('Shape of Matrix 2: ', m2.shape) # 2 x 1\r\n",
    "print(m1 * m2) # 2 x 2\r\n",
    "print(m1.mul(m2))"
   ],
   "outputs": [
    {
     "output_type": "stream",
     "name": "stdout",
     "text": [
      "Shape of Matrix 1:  torch.Size([2, 2])\n",
      "Shape of Matrix 2:  torch.Size([2, 1])\n",
      "tensor([[1., 2.],\n",
      "        [6., 8.]])\n",
      "tensor([[1., 2.],\n",
      "        [6., 8.]])\n"
     ]
    }
   ],
   "metadata": {}
  },
  {
   "cell_type": "markdown",
   "source": [
    "### 평균"
   ],
   "metadata": {}
  },
  {
   "cell_type": "code",
   "execution_count": 14,
   "source": [
    "t = torch.FloatTensor([1, 2])\r\n",
    "print(t.mean())"
   ],
   "outputs": [
    {
     "output_type": "stream",
     "name": "stdout",
     "text": [
      "tensor(1.5000)\n"
     ]
    }
   ],
   "metadata": {}
  },
  {
   "cell_type": "code",
   "execution_count": 15,
   "source": [
    "t = torch.FloatTensor([[1, 2], [3, 4]])\r\n",
    "print(t)\r\n",
    "print(t.mean())"
   ],
   "outputs": [
    {
     "output_type": "stream",
     "name": "stdout",
     "text": [
      "tensor([[1., 2.],\n",
      "        [3., 4.]])\n",
      "tensor(2.5000)\n"
     ]
    }
   ],
   "metadata": {}
  },
  {
   "cell_type": "code",
   "execution_count": 16,
   "source": [
    "print(t.mean(dim=0)) # 첫번째 차원(행)을 제거한다"
   ],
   "outputs": [
    {
     "output_type": "stream",
     "name": "stdout",
     "text": [
      "tensor([2., 3.])\n"
     ]
    }
   ],
   "metadata": {}
  },
  {
   "cell_type": "code",
   "execution_count": 17,
   "source": [
    "print(t.mean(dim=1)) # 두번째 차원(열)을 제거한다\r\n",
    "print(t.mean(dim=-1)) # 마지막 차원(열)을 제거한다"
   ],
   "outputs": [
    {
     "output_type": "stream",
     "name": "stdout",
     "text": [
      "tensor([1.5000, 3.5000])\n",
      "tensor([1.5000, 3.5000])\n"
     ]
    }
   ],
   "metadata": {}
  },
  {
   "cell_type": "markdown",
   "source": [
    "### 덧셈"
   ],
   "metadata": {}
  },
  {
   "cell_type": "code",
   "execution_count": 18,
   "source": [
    "t = torch.FloatTensor([[1, 2], [3, 4]])\r\n",
    "print(t)\r\n",
    "print(t.sum()) # 단순히 원소 전체의 덧셈을 수행\r\n",
    "print(t.sum(dim=0)) # 행을 제거\r\n",
    "print(t.sum(dim=1)) # 열을 제거\r\n",
    "print(t.sum(dim=-1)) # 열을 제거"
   ],
   "outputs": [
    {
     "output_type": "stream",
     "name": "stdout",
     "text": [
      "tensor([[1., 2.],\n",
      "        [3., 4.]])\n",
      "tensor(10.)\n",
      "tensor([4., 6.])\n",
      "tensor([3., 7.])\n",
      "tensor([3., 7.])\n"
     ]
    }
   ],
   "metadata": {}
  },
  {
   "cell_type": "markdown",
   "source": [
    "### Max와 ArgMax"
   ],
   "metadata": {}
  },
  {
   "cell_type": "code",
   "execution_count": 19,
   "source": [
    "t = torch.FloatTensor([[1, 2], [3, 4]])\r\n",
    "print(t)\r\n",
    "print(t.max())"
   ],
   "outputs": [
    {
     "output_type": "stream",
     "name": "stdout",
     "text": [
      "tensor([[1., 2.],\n",
      "        [3., 4.]])\n",
      "tensor(4.)\n"
     ]
    }
   ],
   "metadata": {}
  },
  {
   "cell_type": "code",
   "execution_count": 20,
   "source": [
    "print(t.max(dim=0)) # 첫번째 차원(행) 제거"
   ],
   "outputs": [
    {
     "output_type": "stream",
     "name": "stdout",
     "text": [
      "torch.return_types.max(\n",
      "values=tensor([3., 4.]),\n",
      "indices=tensor([1, 1]))\n"
     ]
    }
   ],
   "metadata": {}
  },
  {
   "cell_type": "markdown",
   "source": [
    "- 첫번째 열에서 3은 1번 인덱스\r\n",
    "- 두번째 열에서 4는 1번 인덱스\r\n",
    "- 다시 말해 3과 4의 인덱스는 [1, 1]"
   ],
   "metadata": {}
  },
  {
   "cell_type": "code",
   "execution_count": 21,
   "source": [
    "print('Max: ', t.max(dim=0)[0]) # 0번 인덱스 => max값\r\n",
    "print('Argmax: ', t.max(dim=0)[1]) # 1번 인덱스 => argmax값"
   ],
   "outputs": [
    {
     "output_type": "stream",
     "name": "stdout",
     "text": [
      "Max:  tensor([3., 4.])\n",
      "Argmax:  tensor([1, 1])\n"
     ]
    }
   ],
   "metadata": {}
  },
  {
   "cell_type": "code",
   "execution_count": 23,
   "source": [
    "print(t.max(dim=1), '\\n')\r\n",
    "print(t.max(dim=-1))"
   ],
   "outputs": [
    {
     "output_type": "stream",
     "name": "stdout",
     "text": [
      "torch.return_types.max(\n",
      "values=tensor([2., 4.]),\n",
      "indices=tensor([1, 1])) \n",
      "\n",
      "torch.return_types.max(\n",
      "values=tensor([2., 4.]),\n",
      "indices=tensor([1, 1]))\n"
     ]
    }
   ],
   "metadata": {}
  }
 ],
 "metadata": {
  "orig_nbformat": 4,
  "language_info": {
   "name": "python",
   "version": "3.8.7",
   "mimetype": "text/x-python",
   "codemirror_mode": {
    "name": "ipython",
    "version": 3
   },
   "pygments_lexer": "ipython3",
   "nbconvert_exporter": "python",
   "file_extension": ".py"
  },
  "kernelspec": {
   "name": "python3",
   "display_name": "Python 3.8.7 64-bit"
  },
  "interpreter": {
   "hash": "3019afab00293a1ae281e291b07de184983c2ba180a49ac4e0334f58b45935af"
  }
 },
 "nbformat": 4,
 "nbformat_minor": 2
}