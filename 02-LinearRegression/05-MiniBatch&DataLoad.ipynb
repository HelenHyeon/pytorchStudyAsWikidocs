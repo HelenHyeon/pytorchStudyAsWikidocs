{
 "cells": [
  {
   "cell_type": "code",
   "execution_count": 1,
   "source": [
    "import torch\r\n",
    "import torch.nn as nn\r\n",
    "import torch.nn.functional as F"
   ],
   "outputs": [],
   "metadata": {}
  },
  {
   "cell_type": "markdown",
   "source": [
    "# Mini Batch"
   ],
   "metadata": {}
  },
  {
   "cell_type": "markdown",
   "source": [
    "- 데이터의 양이 굉장히 많을 경우 전체 데이터에 대해 경사 하강법을 수행하는 것은 매우 힘들다.\r\n",
    "- **Mini Batch** : 전체 데이터를 더 작은 단위로 나누어 해당 단위로 학습하는 개념\r\n",
    "- **Batch Size** : 미니 배치의 크기\r\n",
    "- **Epoch** : 전체 훈련 데이터가 학습에 한 번 사용된 주기\r\n",
    "- 미니 배치 단위로 cost(비용)를 계산해 마지막 미니 배치까지 반복했을때 1Epoch(에포크)가 끝난다.\r\n",
    "- 미니 배치 경사 하강법 : 미니 배치 단위로 경사 하강법을 수행하는 방법\r\n",
    "### ![MiniBatch](../img/Batch1.png)"
   ],
   "metadata": {}
  },
  {
   "cell_type": "markdown",
   "source": [
    "# Iteration(이터레이션)"
   ],
   "metadata": {}
  },
  {
   "cell_type": "markdown",
   "source": [
    "### ![](../img/Batch2.png)\r\n",
    "- **Iteration** : 한 번에 에포크 내에서 매개변수(W, b)의 업데이트 횟수"
   ],
   "metadata": {}
  },
  {
   "cell_type": "markdown",
   "source": [
    "# Data Load"
   ],
   "metadata": {}
  },
  {
   "cell_type": "markdown",
   "source": [
    "- PyTorch에서는 Dataset과 DataLoader를 제공하며 이를 사용해 미니 배치 학습, 데이터 셔플, 병렬 처리 또한 간단히 수행할 수 있다. (사용 : Dataset 정의 => DataLoader에 전달)"
   ],
   "metadata": {}
  },
  {
   "cell_type": "code",
   "execution_count": 2,
   "source": [
    "from torch.utils.data import TensorDataset # 텐서데이터셋\r\n",
    "from torch.utils.data import DataLoader # 데이터로더"
   ],
   "outputs": [],
   "metadata": {}
  },
  {
   "cell_type": "code",
   "execution_count": 3,
   "source": [
    "x_train  =  torch.FloatTensor([[73,  80,  75], \r\n",
    "                               [93,  88,  93], \r\n",
    "                               [89,  91,  90], \r\n",
    "                               [96,  98,  100],   \r\n",
    "                               [73,  66,  70]])  \r\n",
    "y_train  =  torch.FloatTensor([[152],  [185],  [180],  [196],  [142]])"
   ],
   "outputs": [],
   "metadata": {}
  },
  {
   "cell_type": "code",
   "execution_count": 4,
   "source": [
    "dataset = TensorDataset(x_train, y_train) # 텐서를 입력받아 데이터셋으로 저장"
   ],
   "outputs": [],
   "metadata": {}
  },
  {
   "cell_type": "code",
   "execution_count": 5,
   "source": [
    "# 데이터로더는 데이터셋과 미니 배치 크기를 인자로 받는다. 추가로 shuffle을 쓰기도 한다.\r\n",
    "# shuffle = True : Epoch마다 데이터셋을 섞어 데이터 학습 순서를 바꾼다.\r\n",
    "dataloader = DataLoader(dataset, batch_size=2, shuffle=True)"
   ],
   "outputs": [],
   "metadata": {}
  },
  {
   "cell_type": "code",
   "execution_count": 6,
   "source": [
    "model = nn.Linear(3, 1)\r\n",
    "optimizer = torch.optim.SGD(model.parameters(), lr=1e-5)"
   ],
   "outputs": [],
   "metadata": {}
  },
  {
   "cell_type": "code",
   "execution_count": 7,
   "source": [
    "nb_epochs = 20\r\n",
    "for epoch in range(nb_epochs+1):\r\n",
    "    for batch_idx, samples in enumerate(dataloader):\r\n",
    "        # print(batch_idx)\r\n",
    "        # print(samples)\r\n",
    "        x_train, y_train = samples\r\n",
    "\r\n",
    "        # H(x)\r\n",
    "        prediction = model(x_train)\r\n",
    "\r\n",
    "        # cost\r\n",
    "        cost = F.mse_loss(prediction, y_train)\r\n",
    "\r\n",
    "        # cost -> H(x)\r\n",
    "        optimizer.zero_grad()\r\n",
    "        cost.backward()\r\n",
    "        optimizer.step()\r\n",
    "\r\n",
    "        print('Epoch {:4d}/{} Batch {}/{} Cost: {:.6f}'.format(\r\n",
    "        epoch, nb_epochs, batch_idx+1, len(dataloader),\r\n",
    "        cost.item()))"
   ],
   "outputs": [
    {
     "output_type": "stream",
     "name": "stdout",
     "text": [
      "Epoch    0/20 Batch 1/3 Cost: 17801.974609\n",
      "Epoch    0/20 Batch 2/3 Cost: 8998.156250\n",
      "Epoch    0/20 Batch 3/3 Cost: 939.364136\n",
      "Epoch    1/20 Batch 1/3 Cost: 792.502930\n",
      "Epoch    1/20 Batch 2/3 Cost: 235.984802\n",
      "Epoch    1/20 Batch 3/3 Cost: 51.318546\n",
      "Epoch    2/20 Batch 1/3 Cost: 55.313774\n",
      "Epoch    2/20 Batch 2/3 Cost: 21.184156\n",
      "Epoch    2/20 Batch 3/3 Cost: 10.826164\n",
      "Epoch    3/20 Batch 1/3 Cost: 27.360197\n",
      "Epoch    3/20 Batch 2/3 Cost: 15.786427\n",
      "Epoch    3/20 Batch 3/3 Cost: 4.305739\n",
      "Epoch    4/20 Batch 1/3 Cost: 17.347420\n",
      "Epoch    4/20 Batch 2/3 Cost: 20.698421\n",
      "Epoch    4/20 Batch 3/3 Cost: 3.239517\n",
      "Epoch    5/20 Batch 1/3 Cost: 1.533963\n",
      "Epoch    5/20 Batch 2/3 Cost: 36.828766\n",
      "Epoch    5/20 Batch 3/3 Cost: 24.325594\n",
      "Epoch    6/20 Batch 1/3 Cost: 11.273576\n",
      "Epoch    6/20 Batch 2/3 Cost: 24.004501\n",
      "Epoch    6/20 Batch 3/3 Cost: 7.260515\n",
      "Epoch    7/20 Batch 1/3 Cost: 33.615459\n",
      "Epoch    7/20 Batch 2/3 Cost: 20.115871\n",
      "Epoch    7/20 Batch 3/3 Cost: 1.007705\n",
      "Epoch    8/20 Batch 1/3 Cost: 34.478912\n",
      "Epoch    8/20 Batch 2/3 Cost: 11.494967\n",
      "Epoch    8/20 Batch 3/3 Cost: 12.758247\n",
      "Epoch    9/20 Batch 1/3 Cost: 42.013824\n",
      "Epoch    9/20 Batch 2/3 Cost: 8.666527\n",
      "Epoch    9/20 Batch 3/3 Cost: 11.547511\n",
      "Epoch   10/20 Batch 1/3 Cost: 28.831268\n",
      "Epoch   10/20 Batch 2/3 Cost: 12.250804\n",
      "Epoch   10/20 Batch 3/3 Cost: 5.240296\n",
      "Epoch   11/20 Batch 1/3 Cost: 16.895594\n",
      "Epoch   11/20 Batch 2/3 Cost: 2.037782\n",
      "Epoch   11/20 Batch 3/3 Cost: 44.967075\n",
      "Epoch   12/20 Batch 1/3 Cost: 7.497901\n",
      "Epoch   12/20 Batch 2/3 Cost: 17.936657\n",
      "Epoch   12/20 Batch 3/3 Cost: 23.419657\n",
      "Epoch   13/20 Batch 1/3 Cost: 11.294402\n",
      "Epoch   13/20 Batch 2/3 Cost: 18.749546\n",
      "Epoch   13/20 Batch 3/3 Cost: 18.693722\n",
      "Epoch   14/20 Batch 1/3 Cost: 22.355625\n",
      "Epoch   14/20 Batch 2/3 Cost: 14.834094\n",
      "Epoch   14/20 Batch 3/3 Cost: 5.716620\n",
      "Epoch   15/20 Batch 1/3 Cost: 21.984558\n",
      "Epoch   15/20 Batch 2/3 Cost: 9.945842\n",
      "Epoch   15/20 Batch 3/3 Cost: 17.082031\n",
      "Epoch   16/20 Batch 1/3 Cost: 13.621849\n",
      "Epoch   16/20 Batch 2/3 Cost: 23.924324\n",
      "Epoch   16/20 Batch 3/3 Cost: 6.098720\n",
      "Epoch   17/20 Batch 1/3 Cost: 21.780613\n",
      "Epoch   17/20 Batch 2/3 Cost: 14.709333\n",
      "Epoch   17/20 Batch 3/3 Cost: 5.896784\n",
      "Epoch   18/20 Batch 1/3 Cost: 34.078293\n",
      "Epoch   18/20 Batch 2/3 Cost: 19.215923\n",
      "Epoch   18/20 Batch 3/3 Cost: 0.927629\n",
      "Epoch   19/20 Batch 1/3 Cost: 4.261254\n",
      "Epoch   19/20 Batch 2/3 Cost: 16.253767\n",
      "Epoch   19/20 Batch 3/3 Cost: 37.192951\n",
      "Epoch   20/20 Batch 1/3 Cost: 16.268814\n",
      "Epoch   20/20 Batch 2/3 Cost: 15.399248\n",
      "Epoch   20/20 Batch 3/3 Cost: 14.328332\n"
     ]
    }
   ],
   "metadata": {}
  },
  {
   "cell_type": "code",
   "execution_count": 8,
   "source": [
    "# 임의의 입력 [73, 80, 75]를 선언\r\n",
    "new_var =  torch.FloatTensor([[73, 80, 75]]) \r\n",
    "# 입력한 값 [73, 80, 75]에 대해서 예측값 y를 리턴받아서 pred_y에 저장\r\n",
    "pred_y = model(new_var) \r\n",
    "print(\"훈련 후 입력이 73, 80, 75일 때의 예측값 :\", pred_y)"
   ],
   "outputs": [
    {
     "output_type": "stream",
     "name": "stdout",
     "text": [
      "훈련 후 입력이 73, 80, 75일 때의 예측값 : tensor([[155.3194]], grad_fn=<AddmmBackward>)\n"
     ]
    }
   ],
   "metadata": {}
  }
 ],
 "metadata": {
  "orig_nbformat": 4,
  "language_info": {
   "name": "python",
   "version": "3.8.7",
   "mimetype": "text/x-python",
   "codemirror_mode": {
    "name": "ipython",
    "version": 3
   },
   "pygments_lexer": "ipython3",
   "nbconvert_exporter": "python",
   "file_extension": ".py"
  },
  "kernelspec": {
   "name": "python3",
   "display_name": "Python 3.8.7 64-bit"
  },
  "interpreter": {
   "hash": "3019afab00293a1ae281e291b07de184983c2ba180a49ac4e0334f58b45935af"
  }
 },
 "nbformat": 4,
 "nbformat_minor": 2
}