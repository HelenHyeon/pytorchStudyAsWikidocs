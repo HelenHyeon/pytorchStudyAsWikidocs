{
 "cells": [
  {
   "cell_type": "code",
   "execution_count": 2,
   "source": [
    "import torch"
   ],
   "outputs": [],
   "metadata": {}
  },
  {
   "cell_type": "markdown",
   "source": [
    "# Data 이해하기"
   ],
   "metadata": {}
  },
  {
   "cell_type": "markdown",
   "source": [
    "## Training/Test Dataset"
   ],
   "metadata": {}
  },
  {
   "cell_type": "markdown",
   "source": [
    "- training dataset : 결과 예측을 위해 사용하는 앞서 나온 데이터\r\n",
    "- test dataset : 학습이 끝난 모델의 성능을 테스트하는 데이터셋"
   ],
   "metadata": {}
  },
  {
   "cell_type": "markdown",
   "source": [
    "### 훈련 데이터셋 구성\r\n",
    "- 훈련 데이터셋은 텐서의 형태를 가진다.\r\n",
    "- 입력과 출력 데이터를 각 텐서에 나누어 저장한다.\r\n",
    "- 보편적으로 입력은 x, 출력은 y를 사용한다."
   ],
   "metadata": {}
  },
  {
   "cell_type": "code",
   "execution_count": 4,
   "source": [
    "x_train = torch.FloatTensor([[1], [2], [3]])\r\n",
    "y_train = torch.FloatTensor([[2], [4], [6]])\r\n",
    "print(x_train, '\\n', y_train)"
   ],
   "outputs": [
    {
     "output_type": "stream",
     "name": "stdout",
     "text": [
      "tensor([[1.],\n",
      "        [2.],\n",
      "        [3.]]) \n",
      " tensor([[2.],\n",
      "        [4.],\n",
      "        [6.]])\n"
     ]
    }
   ],
   "metadata": {}
  },
  {
   "cell_type": "markdown",
   "source": [
    "# 가설(Hypothesis)"
   ],
   "metadata": {}
  },
  {
   "cell_type": "markdown",
   "source": [
    "- Hypothesis : 머신러닝에서 식을 세우는 것\r\n",
    "- 선형회귀의 가설\r\n",
    "> ### y = Wx + b\r\n",
    "> ### H(x) = Wx + b\r\n",
    "- 가중치 : W(x와 곱해지는 수) => 기울기\r\n",
    "- 편향 : b => y절편\r\n",
    "[직선의 방정식](https://mathbang.net/443)"
   ],
   "metadata": {}
  },
  {
   "cell_type": "markdown",
   "source": [
    "# 비용 함수(Cost Funtion)"
   ],
   "metadata": {}
  },
  {
   "cell_type": "markdown",
   "source": [
    "- 비용함수 : 원래의 값과 가장 오차가 작은 가설함수를 도출하기 위해 사용되는 함수이다.\r\n",
    "- **(실제값 - 예측값)^2** 의 평균과 같다."
   ],
   "metadata": {}
  },
  {
   "cell_type": "markdown",
   "source": [
    "## Ex)"
   ],
   "metadata": {}
  },
  {
   "cell_type": "markdown",
   "source": [
    "### ![그래프](../img/LR1.png)\r\n",
    "### 화살표 ↕ : 각 실제 값에 대한 오차 (실제값과 예측값의 차이)\r\n",
    "### ![예측값과 실제값의 오차](../img/LR2.png)\r\n",
    "### ![수식](../img/LR3.png)\r\n",
    "### 평균 제곱 오차를 W와 b에 의한 비용 함수로 재정의\r\n",
    "### ![수식](../img/LR4.png)\r\n",
    "### cost(W, b) 가 최소가 되는 W와 b를 구하여 훈련데이터를 가장 잘 표현하는 직선을 구할 수 있다."
   ],
   "metadata": {}
  },
  {
   "cell_type": "markdown",
   "source": [
    "# Gradient Descent(경사 하강법)\r\n",
    "- Optimizer(옵티마이저) 알고리즘 : 위의 Cost Funtion의 값을 최소화 하는 W와 b를 찾는 알고리즘\r\n",
    "- Gradient Descent(경사 하강법) : 가장 기본적인 옵티마이저 알고리즘"
   ],
   "metadata": {}
  },
  {
   "cell_type": "markdown",
   "source": [
    "## Gradient Descent"
   ],
   "metadata": {}
  },
  {
   "cell_type": "markdown",
   "source": [
    "### b의 값은 0이라고 가정하고 설명한다. (y = Wx, cost(W))\r\n",
    "### 기울기 W의 값이 너무 크거나 반대로 너무 작으면 오차가 커진다. 이에 따라 W와 cost(W)의 관계는 다음과 같이 나타낼 수 있다.\r\n",
    "### ![W와 cost(W)의 관계](../img/Gradient1.png)\r\n",
    "### 위 그래프에서 맨 아래 볼록한 부분의 W값을 찾는 것이 목표이다.\r\n",
    "### ![접선의 기울기](../img/Gradient.png)\r\n",
    "### 순간 변화율이나 접선에서의 기울기 개념을 사용해 접선의 기울기가 0이 되는 지점을 찾는다.\r\n",
    "### 현재 W의 접선의 기울기를 구해 접선의 기울기가 0에 가까워지도록 작업을 반복한다.\r\n",
    "### ![수식](../img/Gradient2.png)\r\n",
    "- 현재 W의 접선의 기울기에 특정 숫자 α를 곱한 값을 빼서 새로운 W로 사용한다.\r\n",
    "### 기울기가 음수일 경우 W의 값이 증가한다.\r\n",
    "### 기울기가 양슈일 경우 W의 값이 감소한다.\r\n",
    "### ![수식](../img/Gradient3.png)\r\n",
    "- 접석의 기울기가 음수이거나 양수일 경우 모두 접선의 기울기가 0인 방향으로 W의 값을 조정한다.\r\n",
    "### α의 의미 : W의 값을 변경할 때 얼마나 크게 변경하는지 결정한다. 너무 크거나 너무 작지 않은 적당한 값을 찾는것이 중요하다."
   ],
   "metadata": {}
  }
 ],
 "metadata": {
  "orig_nbformat": 4,
  "language_info": {
   "name": "python",
   "version": "3.8.7",
   "mimetype": "text/x-python",
   "codemirror_mode": {
    "name": "ipython",
    "version": 3
   },
   "pygments_lexer": "ipython3",
   "nbconvert_exporter": "python",
   "file_extension": ".py"
  },
  "kernelspec": {
   "name": "python3",
   "display_name": "Python 3.8.7 64-bit"
  },
  "interpreter": {
   "hash": "3019afab00293a1ae281e291b07de184983c2ba180a49ac4e0334f58b45935af"
  }
 },
 "nbformat": 4,
 "nbformat_minor": 2
}