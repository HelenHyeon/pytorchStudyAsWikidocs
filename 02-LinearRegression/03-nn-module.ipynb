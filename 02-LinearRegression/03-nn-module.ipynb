{
 "cells": [
  {
   "cell_type": "code",
   "execution_count": 1,
   "source": [
    "import torch\r\n",
    "import torch.nn as nn\r\n",
    "import torch.nn.functional as F"
   ],
   "outputs": [],
   "metadata": {}
  },
  {
   "cell_type": "markdown",
   "source": [
    "지금까지처럼 직접 비용 함수를 정의하는 것이 아닌 파이토치에서 제공하는 함수를 사용해본다."
   ],
   "metadata": {}
  },
  {
   "cell_type": "code",
   "execution_count": 2,
   "source": [
    "# model = nn.Linear(input_dim, output_dim)"
   ],
   "outputs": [],
   "metadata": {}
  },
  {
   "cell_type": "code",
   "execution_count": 3,
   "source": [
    "# cost = F.mse_loss(presiction, y_train)"
   ],
   "outputs": [],
   "metadata": {}
  },
  {
   "cell_type": "markdown",
   "source": [
    "# 단순 선형 회귀\r\n",
    "- y = 2x 로 가정 (W=2, b=0)"
   ],
   "metadata": {}
  },
  {
   "cell_type": "code",
   "execution_count": 4,
   "source": [
    "torch.manual_seed(1)"
   ],
   "outputs": [
    {
     "output_type": "execute_result",
     "data": {
      "text/plain": [
       "<torch._C.Generator at 0x195979ceeb0>"
      ]
     },
     "metadata": {},
     "execution_count": 4
    }
   ],
   "metadata": {}
  },
  {
   "cell_type": "code",
   "execution_count": 5,
   "source": [
    "x_train = torch.FloatTensor([[1], [2], [3]])\r\n",
    "y_train = torch.FloatTensor([[2], [4], [6]])"
   ],
   "outputs": [],
   "metadata": {}
  },
  {
   "cell_type": "code",
   "execution_count": 6,
   "source": [
    "model = nn.Linear(1,1) # input_dim=1, output_dim=1 (입력 x, 출력 y)"
   ],
   "outputs": [],
   "metadata": {}
  },
  {
   "cell_type": "code",
   "execution_count": 7,
   "source": [
    "# model에 저장되어 있는 가중치 W와 편향 b\r\n",
    "print(list(model.parameters())) # 첫번째 값 : W, 두번째 값 : b"
   ],
   "outputs": [
    {
     "output_type": "stream",
     "name": "stdout",
     "text": [
      "[Parameter containing:\n",
      "tensor([[0.5153]], requires_grad=True), Parameter containing:\n",
      "tensor([-0.4414], requires_grad=True)]\n"
     ]
    }
   ],
   "metadata": {}
  },
  {
   "cell_type": "code",
   "execution_count": 8,
   "source": [
    "# optimizer 설정. 경사 하강법 SGD를 사용, learning rate = 0.01\r\n",
    "optimizer = torch.optim.SGD(model.parameters(), lr=0.01) "
   ],
   "outputs": [],
   "metadata": {}
  },
  {
   "cell_type": "code",
   "execution_count": 9,
   "source": [
    "nb_epochs = 2000\r\n",
    "for epoch in range(nb_epochs+1):\r\n",
    "    # H(x)\r\n",
    "    prediction = model(x_train)\r\n",
    "\r\n",
    "    # cost\r\n",
    "    cost = F.mse_loss(prediction, y_train) # PyTorch 제공 평균 제곱 오차 함수\r\n",
    "\r\n",
    "    # cost로 H(x) 개선\r\n",
    "    optimizer.zero_grad() # gradient 0으로 초기화\r\n",
    "    # 비용함수 미분 -> gradient 계산\r\n",
    "    cost.backward()\r\n",
    "    # W, b update\r\n",
    "    optimizer.step()\r\n",
    "\r\n",
    "    if epoch % 100 == 0:\r\n",
    "        print('Epoch {:4d}/{} Cost: {:.6f}'.format(\r\n",
    "          epoch, nb_epochs, cost.item()))"
   ],
   "outputs": [
    {
     "output_type": "stream",
     "name": "stdout",
     "text": [
      "Epoch    0/2000 Cost: 13.103541\n",
      "Epoch  100/2000 Cost: 0.002791\n",
      "Epoch  200/2000 Cost: 0.001724\n",
      "Epoch  300/2000 Cost: 0.001066\n",
      "Epoch  400/2000 Cost: 0.000658\n",
      "Epoch  500/2000 Cost: 0.000407\n",
      "Epoch  600/2000 Cost: 0.000251\n",
      "Epoch  700/2000 Cost: 0.000155\n",
      "Epoch  800/2000 Cost: 0.000096\n",
      "Epoch  900/2000 Cost: 0.000059\n",
      "Epoch 1000/2000 Cost: 0.000037\n",
      "Epoch 1100/2000 Cost: 0.000023\n",
      "Epoch 1200/2000 Cost: 0.000014\n",
      "Epoch 1300/2000 Cost: 0.000009\n",
      "Epoch 1400/2000 Cost: 0.000005\n",
      "Epoch 1500/2000 Cost: 0.000003\n",
      "Epoch 1600/2000 Cost: 0.000002\n",
      "Epoch 1700/2000 Cost: 0.000001\n",
      "Epoch 1800/2000 Cost: 0.000001\n",
      "Epoch 1900/2000 Cost: 0.000000\n",
      "Epoch 2000/2000 Cost: 0.000000\n"
     ]
    }
   ],
   "metadata": {}
  },
  {
   "cell_type": "code",
   "execution_count": 10,
   "source": [
    "# x에 임의의 값 4를 넣어 y값 확인\r\n",
    "new_var = torch.FloatTensor([[4.0]])\r\n",
    "pred_y = model(new_var) # forwrd 연산\r\n",
    "# y = 2x 이므로 입력이 4라면 y가 8에 가까운 값이 나와야 제대로 학습이 된 것\r\n",
    "print(\"훈련 후 입력이 4일 때의 예측값 :\", pred_y) "
   ],
   "outputs": [
    {
     "output_type": "stream",
     "name": "stdout",
     "text": [
      "훈련 후 입력이 4일 때의 예측값 : tensor([[7.9989]], grad_fn=<AddmmBackward>)\n"
     ]
    }
   ],
   "metadata": {}
  },
  {
   "cell_type": "code",
   "execution_count": 11,
   "source": [
    "print(list(model.parameters())) # 학습 후 W와 b"
   ],
   "outputs": [
    {
     "output_type": "stream",
     "name": "stdout",
     "text": [
      "[Parameter containing:\n",
      "tensor([[1.9994]], requires_grad=True), Parameter containing:\n",
      "tensor([0.0014], requires_grad=True)]\n"
     ]
    }
   ],
   "metadata": {}
  },
  {
   "cell_type": "markdown",
   "source": [
    "- forward 연산 : H(x) 식의 입력 x로부터 예측된 y를 얻는 것\r\n",
    "- 학습 전, prediction = model(x_train) => x_train으로부터 예측값을 리턴하는 forward 연산\r\n",
    "- 학습 후, pred_y = model(new_var) => 임의의 값 new_var로부터 예측값을 리턴하는 forward 연산\r\n",
    "- backward 연산 : 학습 과정에서 비용 함수를 미분해 기울기를 구하는 것\r\n",
    "- cost.backward() : 비용 함수로부터 기울기를 구하는 backward 연산"
   ],
   "metadata": {}
  },
  {
   "cell_type": "markdown",
   "source": [
    "# 다중 선형 회귀\r\n",
    "- H(X) = w₁x₁ + w₂x₂ + w₃x₃ + b"
   ],
   "metadata": {}
  },
  {
   "cell_type": "code",
   "execution_count": 12,
   "source": [
    "x_train = torch.FloatTensor([[73, 80, 75],\r\n",
    "                             [93, 88, 93],\r\n",
    "                             [89, 91, 90],\r\n",
    "                             [96, 98, 100],\r\n",
    "                             [73, 66, 70]])\r\n",
    "y_train = torch.FloatTensor([[152], [185], [180], [196], [142]])"
   ],
   "outputs": [],
   "metadata": {}
  },
  {
   "cell_type": "code",
   "execution_count": 13,
   "source": [
    "# 모델을 선언 및 초기화. 다중 선형 회귀이므로 input_dim=3, output_dim=1.\r\n",
    "model = nn.Linear(3,1)"
   ],
   "outputs": [],
   "metadata": {}
  },
  {
   "cell_type": "code",
   "execution_count": 14,
   "source": [
    "print(list(model.parameters())) # w의 값이 3개임을 볼 수 있다."
   ],
   "outputs": [
    {
     "output_type": "stream",
     "name": "stdout",
     "text": [
      "[Parameter containing:\n",
      "tensor([[-0.1119,  0.2710, -0.5435]], requires_grad=True), Parameter containing:\n",
      "tensor([0.3462], requires_grad=True)]\n"
     ]
    }
   ],
   "metadata": {}
  },
  {
   "cell_type": "code",
   "execution_count": 15,
   "source": [
    "# 학습률(learning rate) = 0.00001(1e-5)\r\n",
    "# 학습률을 0.01로 설정할 경우 기울기가 발산\r\n",
    "optimizer = torch.optim.SGD(model.parameters(), lr=1e-5)"
   ],
   "outputs": [],
   "metadata": {}
  },
  {
   "cell_type": "code",
   "execution_count": 16,
   "source": [
    "nb_epochs = 5000\r\n",
    "for epoch in range(nb_epochs+1):\r\n",
    "\r\n",
    "    # H(x) 계산\r\n",
    "    prediction = model(x_train)\r\n",
    "    # model(x_train)은 model.forward(x_train)와 동일함.\r\n",
    "\r\n",
    "    # cost 계산\r\n",
    "    cost = F.mse_loss(prediction, y_train) # <== 파이토치에서 제공하는 평균 제곱 오차 함수\r\n",
    "\r\n",
    "    # cost로 H(x) 개선하는 부분\r\n",
    "    # gradient를 0으로 초기화\r\n",
    "    optimizer.zero_grad()\r\n",
    "    # 비용 함수를 미분하여 gradient 계산\r\n",
    "    cost.backward()\r\n",
    "    # W와 b를 업데이트\r\n",
    "    optimizer.step()\r\n",
    "\r\n",
    "    if epoch % 100 == 0:\r\n",
    "    # 100번마다 로그 출력\r\n",
    "        print('Epoch {:4d}/{} Cost: {:.6f}'.format(\r\n",
    "            epoch, nb_epochs, cost.item()))"
   ],
   "outputs": [
    {
     "output_type": "stream",
     "name": "stdout",
     "text": [
      "Epoch    0/5000 Cost: 42134.707031\n",
      "Epoch  100/5000 Cost: 5.960090\n",
      "Epoch  200/5000 Cost: 5.654707\n",
      "Epoch  300/5000 Cost: 5.365413\n",
      "Epoch  400/5000 Cost: 5.091413\n",
      "Epoch  500/5000 Cost: 4.831860\n",
      "Epoch  600/5000 Cost: 4.585968\n",
      "Epoch  700/5000 Cost: 4.353065\n",
      "Epoch  800/5000 Cost: 4.132451\n",
      "Epoch  900/5000 Cost: 3.923481\n",
      "Epoch 1000/5000 Cost: 3.725512\n",
      "Epoch 1100/5000 Cost: 3.537961\n",
      "Epoch 1200/5000 Cost: 3.360339\n",
      "Epoch 1300/5000 Cost: 3.192072\n",
      "Epoch 1400/5000 Cost: 3.032686\n",
      "Epoch 1500/5000 Cost: 2.881712\n",
      "Epoch 1600/5000 Cost: 2.738675\n",
      "Epoch 1700/5000 Cost: 2.603187\n",
      "Epoch 1800/5000 Cost: 2.474835\n",
      "Epoch 1900/5000 Cost: 2.353291\n",
      "Epoch 2000/5000 Cost: 2.238128\n",
      "Epoch 2100/5000 Cost: 2.129045\n",
      "Epoch 2200/5000 Cost: 2.025692\n",
      "Epoch 2300/5000 Cost: 1.927799\n",
      "Epoch 2400/5000 Cost: 1.835093\n",
      "Epoch 2500/5000 Cost: 1.747250\n",
      "Epoch 2600/5000 Cost: 1.664035\n",
      "Epoch 2700/5000 Cost: 1.585215\n",
      "Epoch 2800/5000 Cost: 1.510551\n",
      "Epoch 2900/5000 Cost: 1.439824\n",
      "Epoch 3000/5000 Cost: 1.372828\n",
      "Epoch 3100/5000 Cost: 1.309343\n",
      "Epoch 3200/5000 Cost: 1.249224\n",
      "Epoch 3300/5000 Cost: 1.192254\n",
      "Epoch 3400/5000 Cost: 1.138316\n",
      "Epoch 3500/5000 Cost: 1.087192\n",
      "Epoch 3600/5000 Cost: 1.038780\n",
      "Epoch 3700/5000 Cost: 0.992918\n",
      "Epoch 3800/5000 Cost: 0.949466\n",
      "Epoch 3900/5000 Cost: 0.908308\n",
      "Epoch 4000/5000 Cost: 0.869301\n",
      "Epoch 4100/5000 Cost: 0.832367\n",
      "Epoch 4200/5000 Cost: 0.797375\n",
      "Epoch 4300/5000 Cost: 0.764230\n",
      "Epoch 4400/5000 Cost: 0.732824\n",
      "Epoch 4500/5000 Cost: 0.703076\n",
      "Epoch 4600/5000 Cost: 0.674885\n",
      "Epoch 4700/5000 Cost: 0.648188\n",
      "Epoch 4800/5000 Cost: 0.622886\n",
      "Epoch 4900/5000 Cost: 0.598933\n",
      "Epoch 5000/5000 Cost: 0.576234\n"
     ]
    }
   ],
   "metadata": {}
  },
  {
   "cell_type": "code",
   "execution_count": 17,
   "source": [
    "# 임의의 입력 [73, 80, 75]를 선언\r\n",
    "new_var =  torch.FloatTensor([[73, 80, 75]]) \r\n",
    "# 입력한 값 [73, 80, 75]에 대해서 예측값 y를 리턴받아서 pred_y에 저장\r\n",
    "pred_y = model(new_var) \r\n",
    "print(\"훈련 후 입력이 73, 80, 75일 때의 예측값 :\", pred_y)"
   ],
   "outputs": [
    {
     "output_type": "stream",
     "name": "stdout",
     "text": [
      "훈련 후 입력이 73, 80, 75일 때의 예측값 : tensor([[152.5621]], grad_fn=<AddmmBackward>)\n"
     ]
    }
   ],
   "metadata": {}
  },
  {
   "cell_type": "code",
   "execution_count": 18,
   "source": [
    "print(list(model.parameters()))"
   ],
   "outputs": [
    {
     "output_type": "stream",
     "name": "stdout",
     "text": [
      "[Parameter containing:\n",
      "tensor([[0.9836, 0.6775, 0.3494]], requires_grad=True), Parameter containing:\n",
      "tensor([0.3578], requires_grad=True)]\n"
     ]
    }
   ],
   "metadata": {}
  }
 ],
 "metadata": {
  "orig_nbformat": 4,
  "language_info": {
   "name": "python",
   "version": "3.8.7",
   "mimetype": "text/x-python",
   "codemirror_mode": {
    "name": "ipython",
    "version": 3
   },
   "pygments_lexer": "ipython3",
   "nbconvert_exporter": "python",
   "file_extension": ".py"
  },
  "kernelspec": {
   "name": "python3",
   "display_name": "Python 3.8.7 64-bit"
  },
  "interpreter": {
   "hash": "3019afab00293a1ae281e291b07de184983c2ba180a49ac4e0334f58b45935af"
  }
 },
 "nbformat": 4,
 "nbformat_minor": 2
}