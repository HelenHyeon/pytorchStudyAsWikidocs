{
 "cells": [
  {
   "cell_type": "markdown",
   "source": [
    "# 모델 이해"
   ],
   "metadata": {}
  },
  {
   "cell_type": "markdown",
   "source": [
    "- 아래 모델의 아키텍서는 총 5개 층으로 구성된다.\r\n",
    "- 앞서 한 모델과 1번, 2번 레이어는 동일하며 새로운 합성곱청과 전결합층이 추가되었다.\r\n",
    "```py\r\n",
    "# 1번 레이어 : 합성곱층(Convolutional layer)\r\n",
    "합성곱(in_channel = 1, out_channel = 32, kernel_size=3, stride=1, padding=1) + 활성화 함수 ReLU\r\n",
    "맥스풀링(kernel_size=2, stride=2))\r\n",
    "\r\n",
    "# 2번 레이어 : 합성곱층(Convolutional layer)\r\n",
    "합성곱(in_channel = 32, out_channel = 64, kernel_size=3, stride=1, padding=1) + 활성화 함수 ReLU\r\n",
    "맥스풀링(kernel_size=2, stride=2))\r\n",
    "\r\n",
    "# 3번 레이어 : 합성곱층(Convolutional layer)\r\n",
    "합성곱(in_channel = 64, out_channel = 128, kernel_size=3, stride=1, padding=1) + 활성화 함수 ReLU\r\n",
    "맥스풀링(kernel_size=2, stride=2, padding=1))\r\n",
    "\r\n",
    "# 4번 레이어 : 전결합층(Fully-Connected layer)\r\n",
    "특성맵을 펼친다. # batch_size × 4 × 4 × 128 → batch_size × 2048\r\n",
    "전결합층(뉴런 625개) + 활성화 함수 ReLU\r\n",
    "\r\n",
    "# 5번 레이어 : 전결합층(Fully-Connected layer)\r\n",
    "전결합층(뉴런 10개) + 활성화 함수 Softmax\r\n",
    "```\r\n"
   ],
   "metadata": {}
  },
  {
   "cell_type": "markdown",
   "source": [
    "# 깊은 CNN으로 MNIST 분류"
   ],
   "metadata": {}
  },
  {
   "cell_type": "code",
   "execution_count": 1,
   "source": [
    "import torch\r\n",
    "import torchvision.datasets as dsets\r\n",
    "import torchvision.transforms as transforms\r\n",
    "import torch.nn.init\r\n",
    "\r\n",
    "device = 'cuda' if torch.cuda.is_available() else 'cpu'\r\n",
    "\r\n",
    "# 랜덤 시드 고정\r\n",
    "torch.manual_seed(777)\r\n",
    "\r\n",
    "# GPU 사용 가능일 경우 랜덤 시드 고정\r\n",
    "if device == 'cuda':\r\n",
    "    torch.cuda.manual_seed_all(777)"
   ],
   "outputs": [],
   "metadata": {}
  },
  {
   "cell_type": "code",
   "execution_count": 4,
   "source": [
    "# 파라미터 설정\r\n",
    "learning_rate = 0.001\r\n",
    "training_epochs = 15\r\n",
    "batch_size = 100"
   ],
   "outputs": [],
   "metadata": {}
  },
  {
   "cell_type": "code",
   "execution_count": 3,
   "source": [
    "# 데이터로더를 사용하기 위한 데이터셋 정의\r\n",
    "mnist_train = dsets.MNIST(root='MNIST_data/', # 다운로드 경로 지정\r\n",
    "                          train=True, # True를 지정하면 훈련 데이터로 다운로드\r\n",
    "                          transform=transforms.ToTensor(), # 텐서로 변환\r\n",
    "                          download=True)\r\n",
    "\r\n",
    "mnist_test = dsets.MNIST(root='MNIST_data/', # 다운로드 경로 지정\r\n",
    "                         train=False, # False를 지정하면 테스트 데이터로 다운로드\r\n",
    "                         transform=transforms.ToTensor(), # 텐서로 변환\r\n",
    "                         download=True)"
   ],
   "outputs": [],
   "metadata": {}
  },
  {
   "cell_type": "code",
   "execution_count": 6,
   "source": [
    "# 데이터로더를 사용한 배치 크기 지정\r\n",
    "data_loader = torch.utils.data.DataLoader(dataset=mnist_train,\r\n",
    "                                          batch_size=batch_size,\r\n",
    "                                          shuffle=True,\r\n",
    "                                          drop_last=True)"
   ],
   "outputs": [],
   "metadata": {}
  },
  {
   "cell_type": "code",
   "execution_count": 7,
   "source": [
    "# 클래스 모델 설계\r\n",
    "class CNN(torch.nn.Module):\r\n",
    "    def __init__(self):\r\n",
    "        super().__init__()\r\n",
    "        self.keep_prob = 0.5\r\n",
    "\r\n",
    "        # L1 ImgIn shape=(?, 28, 28, 1)\r\n",
    "        #    Conv     -> (?, 28, 28, 32)\r\n",
    "        #    Pool     -> (?, 14, 14, 32)\r\n",
    "        self.layer1 = torch.nn.Sequential(\r\n",
    "            torch.nn.Conv2d(1, 32, kernel_size=3, stride=1, padding=1),\r\n",
    "            torch.nn.ReLU(),\r\n",
    "            torch.nn.MaxPool2d(kernel_size=2, stride=2))\r\n",
    "\r\n",
    "        # L2 ImgIn shape=(?, 14, 14, 32)\r\n",
    "        #    Conv      ->(?, 14, 14, 64)\r\n",
    "        #    Pool      ->(?, 7, 7, 64)\r\n",
    "        self.layer2 = torch.nn.Sequential(\r\n",
    "            torch.nn.Conv2d(32, 64, kernel_size=3, stride=1, padding=1),\r\n",
    "            torch.nn.ReLU(),\r\n",
    "            torch.nn.MaxPool2d(kernel_size=2, stride=2))\r\n",
    "\r\n",
    "        # L3 ImgIn shape=(?, 7, 7, 64)\r\n",
    "        #    Conv      ->(?, 7, 7, 128)\r\n",
    "        #    Pool      ->(?, 4, 4, 128)\r\n",
    "        self.layer3 = torch.nn.Sequential(\r\n",
    "            torch.nn.Conv2d(64, 128, kernel_size=3, stride=1, padding=1),\r\n",
    "            torch.nn.ReLU(),\r\n",
    "            torch.nn.MaxPool2d(kernel_size=2, stride=2, padding=1))\r\n",
    "        \r\n",
    "        # L4 FC 4x4x128 inputs -> 625 outputs\r\n",
    "        self.fc1 = torch.nn.Linear(4 * 4 * 128, 625, bias=True)\r\n",
    "        torch.nn.init.xavier_uniform_(self.fc1.weight)\r\n",
    "        self.layer4 = torch.nn.Sequential(\r\n",
    "            self.fc1,\r\n",
    "            torch.nn.ReLU(),\r\n",
    "            torch.nn.Dropout(p=1 - self.keep_prob))\r\n",
    "        \r\n",
    "        # L5 Final FC 625 inputs -> 10 outputs\r\n",
    "        self.fc2 = torch.nn.Linear(625, 10, bias=True)\r\n",
    "        torch.nn.init.xavier_uniform_(self.fc2.weight)\r\n",
    "\r\n",
    "    def forward(self, x):\r\n",
    "        out = self.layer1(x)\r\n",
    "        out = self.layer2(out)\r\n",
    "        out = self.layer3(out)\r\n",
    "        out = out.view(out.size(0), -1)   # Flatten them for FC\r\n",
    "        out = self.layer4(out)\r\n",
    "        out = self.fc2(out)\r\n",
    "        return out"
   ],
   "outputs": [],
   "metadata": {}
  },
  {
   "cell_type": "code",
   "execution_count": 8,
   "source": [
    "# CNN 모델 정의\r\n",
    "model = CNN().to(device)"
   ],
   "outputs": [],
   "metadata": {}
  },
  {
   "cell_type": "code",
   "execution_count": 9,
   "source": [
    "criterion = torch.nn.CrossEntropyLoss().to(device)    # 비용 함수에 소프트맥스 함수 포함되어져 있음.\r\n",
    "optimizer = torch.optim.Adam(model.parameters(), lr=learning_rate)"
   ],
   "outputs": [],
   "metadata": {}
  },
  {
   "cell_type": "code",
   "execution_count": 10,
   "source": [
    "total_batch = len(data_loader)\r\n",
    "print('총 배치의 수 : {}'.format(total_batch))"
   ],
   "outputs": [
    {
     "output_type": "stream",
     "name": "stdout",
     "text": [
      "총 배치의 수 : 600\n"
     ]
    }
   ],
   "metadata": {}
  },
  {
   "cell_type": "code",
   "execution_count": 11,
   "source": [
    "for epoch in range(training_epochs):\r\n",
    "    avg_cost = 0\r\n",
    "\r\n",
    "    for X, Y in data_loader: # 미니 배치 단위로 꺼내온다. X는 미니 배치, Y는 레이블\r\n",
    "        # image is already size of (28x28), no reshape\r\n",
    "        # label is not one-hot encoded\r\n",
    "        X = X.to(device)\r\n",
    "        Y = Y.to(device)\r\n",
    "\r\n",
    "        optimizer.zero_grad()\r\n",
    "        hypothesis = model(X)\r\n",
    "        cost = criterion(hypothesis, Y)\r\n",
    "        cost.backward()\r\n",
    "        optimizer.step()\r\n",
    "\r\n",
    "        avg_cost += cost / total_batch\r\n",
    "\r\n",
    "    print('[Epoch: {:>4}] cost = {:>.9}'.format(epoch + 1, avg_cost))"
   ],
   "outputs": [],
   "metadata": {}
  },
  {
   "cell_type": "code",
   "execution_count": null,
   "source": [
    "# 학습을 진행하지 않을 것이므로 torch.no_grad()\r\n",
    "with torch.no_grad():\r\n",
    "    X_test = mnist_test.test_data.view(len(mnist_test), 1, 28, 28).float().to(device)\r\n",
    "    Y_test = mnist_test.test_labels.to(device)\r\n",
    "\r\n",
    "    prediction = model(X_test)\r\n",
    "    correct_prediction = torch.argmax(prediction, 1) == Y_test\r\n",
    "    accuracy = correct_prediction.float().mean()\r\n",
    "    print('Accuracy:', accuracy.item())"
   ],
   "outputs": [],
   "metadata": {}
  },
  {
   "cell_type": "markdown",
   "source": [
    "- 더 깊은 층을 쌓았는데 오히려 정확도가 줄어드는 현상이 발생한다.\r\n",
    "- 층을 깊게 쌓는다고 무조건 좋은것이 아니며 효율적으로 쌓는게 중요하다."
   ],
   "metadata": {}
  }
 ],
 "metadata": {
  "orig_nbformat": 4,
  "language_info": {
   "name": "python",
   "version": "3.8.7",
   "mimetype": "text/x-python",
   "codemirror_mode": {
    "name": "ipython",
    "version": 3
   },
   "pygments_lexer": "ipython3",
   "nbconvert_exporter": "python",
   "file_extension": ".py"
  },
  "kernelspec": {
   "name": "python3",
   "display_name": "Python 3.8.7 64-bit"
  },
  "interpreter": {
   "hash": "3019afab00293a1ae281e291b07de184983c2ba180a49ac4e0334f58b45935af"
  }
 },
 "nbformat": 4,
 "nbformat_minor": 2
}