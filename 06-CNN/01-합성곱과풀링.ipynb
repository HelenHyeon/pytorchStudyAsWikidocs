{
 "cells": [
  {
   "cell_type": "markdown",
   "source": [
    "- **합성곱 신경망(Convolutional Neural Network)** : 이미지 처리에 탁월한 성능을 보이는 신경망이다. 크게 **합성곱층(Convolution layer)** 와 **풀링층(Pooling layer)** 으로 구성된다."
   ],
   "metadata": {}
  },
  {
   "cell_type": "markdown",
   "source": [
    "# 합성곱 신경망의 대두"
   ],
   "metadata": {}
  },
  {
   "cell_type": "markdown",
   "source": [
    "- 이미지 처리에 다층 퍼셉트론은 몇 가지 픽셀만 값이 달라져도 민감하게 예측에 영향이 생긴다는 한계가 있다.\r\n",
    "- 이미지를 1차원으로 변환할 경우 원래 가지고 있던 공간적인 구조(spatial structure) 정보가 유실되며, 이를 보존하며 학습할 수 있는 방법이 합성곱 신경망을 사용한다."
   ],
   "metadata": {}
  },
  {
   "cell_type": "markdown",
   "source": [
    "# Channel (채널)"
   ],
   "metadata": {}
  },
  {
   "cell_type": "markdown",
   "source": [
    "- 이미지는 높이, 너비, 채널의 3차원 텐서이다.\r\n",
    "- 높이 : 이미지의 세로 방향 필셀 수\r\n",
    "- 너비 : 이미지의 가로 방향 픽셀 수\r\n",
    "- 채널 : 색 성분. 깊이(depth)라고도 한다\r\n",
    "    - 흑백 : 채널 수 1개로 0~255 사이 값\r\n",
    "    - 컬러 : 채널 수 3개(RGB)"
   ],
   "metadata": {}
  },
  {
   "cell_type": "markdown",
   "source": [
    "# 합성곱 연산 (Convolution operation)"
   ],
   "metadata": {}
  },
  {
   "cell_type": "markdown",
   "source": [
    "- 합성곱층은 합성곱 연산을 통해 이미지의 특징을 추출한다.\r\n",
    "- 합성곱 : 커널(필터)라는 n*m 크기의 행렬로 높이\\*너비 크기의 이미지를 처음부터 끝까지 겹치며 훑으면서 n\\*m 크기의 겹쳐지는 부분의 각 이미지와 커널의 원소의 값을 곱해서 모두 더한 값을 출력으로 한는 것을 말한다.\r\n",
    "- 커널(kernel)은 일반적으로 3*3 또는 5\\*5를 사용한다."
   ],
   "metadata": {}
  },
  {
   "cell_type": "markdown",
   "source": [
    "## 예시"
   ],
   "metadata": {}
  },
  {
   "cell_type": "markdown",
   "source": [
    "![첫번째 스텝](../img/cnn.png)\r\n",
    "- (1×1) + (2×0) + (3×1) + (2×1) + (1×0) + (0×1) + (3×0) + (0×1) + (1×0) = 6"
   ],
   "metadata": {}
  },
  {
   "cell_type": "markdown",
   "source": [
    "![두번째 스텝](../img/cnn1.png)\r\n",
    "- (2×1) + (3×0) + (4×1) + (1×1) + (0×0) + (1×1) + (0×0) + (1×1) + (1×0) = 9"
   ],
   "metadata": {}
  },
  {
   "cell_type": "markdown",
   "source": [
    "![세번째 스텝](../img/cnn2.png)\r\n",
    "- (3×1) + (4×0) + (5×1) + (0×1) + (1×0) + (2×1) + (1×0) + (1×1) + (0×0) = 11"
   ],
   "metadata": {}
  },
  {
   "cell_type": "markdown",
   "source": [
    "![네번째 스텝](../img/cnn3.png)\r\n",
    "- (2×1) + (1×0) + (0×1) + (3×1) + (0×0) + (1×1) + (1×0) + (4×1) + (1×0) = 10"
   ],
   "metadata": {}
  },
  {
   "cell_type": "markdown",
   "source": [
    "![특성 맵(feature map)](../img/cnn4.png)\r\n",
    "- **특성 맵(feature map)** : 입력으로부터 커널을 사용하여 합성곱 연산을 통해 나온 결과를 의미한다.\r\n",
    "- **스트라이드(stride)** : 커널의 이동 범위이다. 위 예제에서는 1이었으며, 사용자가 직접 정할 수 있다."
   ],
   "metadata": {}
  },
  {
   "cell_type": "markdown",
   "source": [
    "![예시](../img/cnn5.png)\r\n",
    "- 이미지 5*5, 커널 3\\*3, 스트라이드 2, 특성 맵 2\\*2"
   ],
   "metadata": {}
  },
  {
   "cell_type": "markdown",
   "source": [
    "# Padding (패딩)"
   ],
   "metadata": {}
  },
  {
   "cell_type": "markdown",
   "source": [
    "- 합성곱 연산의 결과로 얻은 특성 맵은 입력보다 크기가 작아진다는 특징이 있다. 합성곱 층을 여러개 쌓은 경우 최종 특성 맵은 초기 입력보다 매우 작아진 상태가 된다.\r\n",
    "- 연산 이후에도 특성 맵의 크기가 입력 크기와 동일하게 유지되도록 하고 싶다면 **패딩(padding)**을 사용할 수 있다."
   ],
   "metadata": {}
  },
  {
   "cell_type": "markdown",
   "source": [
    "![padding](../img/padding.png)\r\n",
    "- **패딩(padding)** : 합성곱 연산 수행 전 입력의 가장자리에 지정된 개수의 폭만큼 행과 열(테두리)을 추가해주는 것을 말한다.\r\n",
    "- 주로 값을 0으로 채우는 제로 패딩을 사용한다.\r\n",
    "- 3*3커널 : 1폭짜리 패딩, 5\\*5커널 : 2폭짜리 패딩"
   ],
   "metadata": {}
  }
 ],
 "metadata": {
  "orig_nbformat": 4,
  "language_info": {
   "name": "python"
  }
 },
 "nbformat": 4,
 "nbformat_minor": 2
}