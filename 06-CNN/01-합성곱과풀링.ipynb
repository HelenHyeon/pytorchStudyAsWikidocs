{
 "cells": [
  {
   "cell_type": "markdown",
   "source": [
    "- **합성곱 신경망(Convolutional Neural Network)** : 이미지 처리에 탁월한 성능을 보이는 신경망이다. 크게 **합성곱층(Convolution layer)** 와 **풀링층(Pooling layer)** 으로 구성된다."
   ],
   "metadata": {}
  },
  {
   "cell_type": "markdown",
   "source": [
    "# 합성곱 신경망의 대두"
   ],
   "metadata": {}
  },
  {
   "cell_type": "markdown",
   "source": [
    "- 이미지 처리에 다층 퍼셉트론은 몇 가지 픽셀만 값이 달라져도 민감하게 예측에 영향이 생긴다는 한계가 있다.\r\n",
    "- 이미지를 1차원으로 변환할 경우 원래 가지고 있던 공간적인 구조(spatial structure) 정보가 유실되며, 이를 보존하며 학습할 수 있는 방법이 합성곱 신경망을 사용한다."
   ],
   "metadata": {}
  },
  {
   "cell_type": "markdown",
   "source": [
    "# Channel (채널)"
   ],
   "metadata": {}
  },
  {
   "cell_type": "markdown",
   "source": [
    "- 이미지는 높이, 너비, 채널의 3차원 텐서이다.\r\n",
    "- 높이 : 이미지의 세로 방향 필셀 수\r\n",
    "- 너비 : 이미지의 가로 방향 픽셀 수\r\n",
    "- 채널 : 색 성분. 깊이(depth)라고도 한다\r\n",
    "    - 흑백 : 채널 수 1개로 0~255 사이 값\r\n",
    "    - 컬러 : 채널 수 3개(RGB)"
   ],
   "metadata": {}
  },
  {
   "cell_type": "markdown",
   "source": [
    "# 합성곱 연산 (Convolution operation)"
   ],
   "metadata": {}
  },
  {
   "cell_type": "markdown",
   "source": [
    "- 합성곱층은 합성곱 연산을 통해 이미지의 특징을 추출한다.\r\n",
    "- 합성곱 : 커널(필터)라는 n*m 크기의 행렬로 높이\\*너비 크기의 이미지를 처음부터 끝까지 겹치며 훑으면서 n\\*m 크기의 겹쳐지는 부분의 각 이미지와 커널의 원소의 값을 곱해서 모두 더한 값을 출력으로 한는 것을 말한다.\r\n",
    "- 커널(kernel)은 일반적으로 3*3 또는 5\\*5를 사용한다."
   ],
   "metadata": {}
  },
  {
   "cell_type": "markdown",
   "source": [
    "## 예시"
   ],
   "metadata": {}
  },
  {
   "cell_type": "markdown",
   "source": [
    "![첫번째 스텝](../img/cnn.png)\r\n",
    "- (1×1) + (2×0) + (3×1) + (2×1) + (1×0) + (0×1) + (3×0) + (0×1) + (1×0) = 6"
   ],
   "metadata": {}
  },
  {
   "cell_type": "markdown",
   "source": [
    "![두번째 스텝](../img/cnn1.png)\r\n",
    "- (2×1) + (3×0) + (4×1) + (1×1) + (0×0) + (1×1) + (0×0) + (1×1) + (1×0) = 9"
   ],
   "metadata": {}
  },
  {
   "cell_type": "markdown",
   "source": [
    "![세번째 스텝](../img/cnn2.png)\r\n",
    "- (3×1) + (4×0) + (5×1) + (0×1) + (1×0) + (2×1) + (1×0) + (1×1) + (0×0) = 11"
   ],
   "metadata": {}
  },
  {
   "cell_type": "markdown",
   "source": [
    "![네번째 스텝](../img/cnn3.png)\r\n",
    "- (2×1) + (1×0) + (0×1) + (3×1) + (0×0) + (1×1) + (1×0) + (4×1) + (1×0) = 10"
   ],
   "metadata": {}
  },
  {
   "cell_type": "markdown",
   "source": [
    "![특성 맵(feature map)](../img/cnn4.png)\r\n",
    "- **특성 맵(feature map)** : 입력으로부터 커널을 사용하여 합성곱 연산을 통해 나온 결과를 의미한다.\r\n",
    "- **스트라이드(stride)** : 커널의 이동 범위이다. 위 예제에서는 1이었으며, 사용자가 직접 정할 수 있다."
   ],
   "metadata": {}
  },
  {
   "cell_type": "markdown",
   "source": [
    "![예시](../img/cnn5.png)\r\n",
    "- 이미지 5*5, 커널 3\\*3, 스트라이드 2, 특성 맵 2\\*2"
   ],
   "metadata": {}
  },
  {
   "cell_type": "markdown",
   "source": [
    "# Padding (패딩)"
   ],
   "metadata": {}
  },
  {
   "cell_type": "markdown",
   "source": [
    "- 합성곱 연산의 결과로 얻은 특성 맵은 입력보다 크기가 작아진다는 특징이 있다. 합성곱 층을 여러개 쌓은 경우 최종 특성 맵은 초기 입력보다 매우 작아진 상태가 된다.\r\n",
    "- 연산 이후에도 특성 맵의 크기가 입력 크기와 동일하게 유지되도록 하고 싶다면 **패딩(padding)**을 사용할 수 있다."
   ],
   "metadata": {}
  },
  {
   "cell_type": "markdown",
   "source": [
    "![padding](../img/padding.png)\r\n",
    "- **패딩(padding)** : 합성곱 연산 수행 전 입력의 가장자리에 지정된 개수의 폭만큼 행과 열(테두리)을 추가해주는 것을 말한다.\r\n",
    "- 주로 값을 0으로 채우는 제로 패딩을 사용한다.\r\n",
    "- 3*3커널 : 1폭짜리 패딩, 5\\*5커널 : 2폭짜리 패딩"
   ],
   "metadata": {}
  },
  {
   "cell_type": "markdown",
   "source": [
    "# 가중치와 편향"
   ],
   "metadata": {}
  },
  {
   "cell_type": "markdown",
   "source": [
    "## 합성곱 신경망의 가중치"
   ],
   "metadata": {}
  },
  {
   "cell_type": "markdown",
   "source": [
    "- 3*3 이미지를 다층 퍼셉트론으로 처리할 경우"
   ],
   "metadata": {}
  },
  {
   "cell_type": "markdown",
   "source": [
    "![img](../img/cnn6.png)\r\n",
    "- 이미지를 1차원 텐서인 벡터로 만들면 9차원 벡터가 되므로 9개의 뉴런을 가진다.\r\n",
    "- 4개의 뉴런을 가지는 은닉층을 추가할 경우 가중치는 9*4 = 36개가 된다."
   ],
   "metadata": {}
  },
  {
   "cell_type": "markdown",
   "source": [
    "- 합성곱 신경망으로 3*3 이미지를 처리할때 2\\*2 커널을 사용하고 스트라이드가 1일 경우 인공신경망 형태로 표현하면 다음과 같다.\r\n",
    "![img](../img/cnn7.png)"
   ],
   "metadata": {}
  },
  {
   "cell_type": "markdown",
   "source": [
    "- 합성곱 신경망은 다층 퍼셉트론에 비해 훨씬 적은 수의 가중치를 사용하며 공간적 구조 정보를 보존한다.\r\n",
    "    - 최종적으로 특성 맵을 얻기 위해서는 동일한 커널로 이미지 전체를 훑으며 합성곱 연산을 진행한다.\r\n",
    "    - 이미지 전체를 훑으며 사용되는 가중치는 4개뿐이다.\r\n",
    "    - 각 합성곱 연산마다 이미지의 모든 픽셀을 사용하는 것이 아닌, 커널과 맵핑되는 픽셀만을 입력으로 사용한다."
   ],
   "metadata": {}
  },
  {
   "cell_type": "markdown",
   "source": [
    "- 합성곱 연산으로 얻은 특성 맵은 다층 퍼셉트론처럼 비선형성 추가를 위해 은닉층 활성화 함수를 지난다.\r\n",
    "- 주로 ReLU 관련 함수들이 사용된다.\r\n",
    "- **합성곱 층(convolution layer)** : 합성곱 연산을 통해 특성 맵을 얻고, 활성화 함수를 지나는 연산을 하는 **합성곱 신경망의 은닉층**"
   ],
   "metadata": {}
  },
  {
   "cell_type": "markdown",
   "source": [
    "## 합성곱 신경망의 편향"
   ],
   "metadata": {}
  },
  {
   "cell_type": "markdown",
   "source": [
    "![img](../img/cnn8.png)\r\n",
    "- 합성곱 신경망에도 편향(bias)을 추가할 수 있다. 편향은 하나의 값만 존재한다.\r\n",
    "- 커널을 적용한 뒤 더해지며, 커널이 적용된 결과의 모든 원소에 더해진다."
   ],
   "metadata": {}
  },
  {
   "cell_type": "markdown",
   "source": [
    "# 특성 맵의 크기 계산 방법"
   ],
   "metadata": {}
  },
  {
   "cell_type": "markdown",
   "source": [
    "- 입력 크기, 커널 크기, 스트라이드 값을 알면 합성곱 연산 결과인 특성 맵의 크기 계산이 가능하다.\r\n",
    "![수식](../img/cnn9.png)\r\n",
    "- floor 함수는 소수점 발생 시 소수점 이하를 버리는 역할을 한다."
   ],
   "metadata": {}
  },
  {
   "cell_type": "markdown",
   "source": [
    "![높이와 너비](../img/cnn10.png)\r\n",
    "- 특성 맵의 높이와 너비\r\n",
    "- 5*5 이미지, 3\\*3 커널, 스트라이드 1로 합성곱 연산을 한 경우\r\n",
    "- (5-3+1)*(5-3+1) = 3\\*3 => 이는 총 9번의 스텝이 필요함을 의미한다."
   ],
   "metadata": {}
  },
  {
   "cell_type": "markdown",
   "source": [
    "![패딩을 고려한 높이와 너비](../img/cnn11.png)\r\n",
    "- 패딩의 폭을 P라고 하고, 패딩까지 고려한 식은 위와 같다."
   ],
   "metadata": {}
  },
  {
   "cell_type": "markdown",
   "source": [
    "# 다수의 채널을 가질 경우 합성곱 연산 (3차원 텐서)"
   ],
   "metadata": {}
  },
  {
   "cell_type": "markdown",
   "source": [
    "![채널이 3인 경우 합성곱 연산](../img/cnn12.png)\r\n",
    "- 다수의 채널을 가진 이미지를 채널(channel) 또는 깊이(depth)를 고려하여 합성곱 연산을 할 경우 **데이터의 채널수만큼 커널의 채널수가 존재한다.**\r\n",
    "- 커널의 각 채널끼리의 크기는 같아야 한다. 이때 커널은 3개의 채널을 가진 1개의 커널이다.\r\n",
    "- 각 채널 간 합성곱 연산을 마친 결과를 더하여 하나의 채널로 만든다."
   ],
   "metadata": {}
  },
  {
   "cell_type": "markdown",
   "source": [
    "# 3차원 텐서의 합성곱 연산"
   ],
   "metadata": {}
  },
  {
   "cell_type": "markdown",
   "source": [
    "![각 변수 설명](../img/cnn13.png)"
   ],
   "metadata": {}
  },
  {
   "cell_type": "markdown",
   "source": [
    "![3차원 텐서의 합성곱 연산](../img/cnn14.png)\r\n",
    "- 입력 데이터는 동일한 채널 수를 가진 커널과 합성곱 연산을 하여 채널 1의 특정 맵을 얻는다."
   ],
   "metadata": {}
  },
  {
   "cell_type": "markdown",
   "source": [
    "![다수의 커널을 사용할 경우 특성 맵의 크기 변화](../img/cnn15.png)\r\n",
    "- 사용하는 커널의 수가 n개일 경우 특성맵의 채널 수도 n개가 된다."
   ],
   "metadata": {}
  },
  {
   "cell_type": "markdown",
   "source": [
    "- 가중치의 매개변수 개수 : 입렵 데이터의 채널 수 × 출력 데이터의 채널 수(커널의 개수) × 커널의 높이 × 커널의 너비"
   ],
   "metadata": {}
  },
  {
   "cell_type": "markdown",
   "source": [
    "# 풀링 (Pooling)"
   ],
   "metadata": {}
  },
  {
   "cell_type": "markdown",
   "source": [
    "- 풀링 층은 일반적으로 합성곱 층(합성곱 연산+활성화 함수) 다음에 추가한다.\r\n",
    "- 풀링 층에서는 특성 맵을 다운샘플링하여 특성맵의 크기를 줄이는 풀링 연산이 이루어진다.\r\n",
    "- 풀링 연산은 일반적으로 최대 풀링(max pooling), 평균 풀링(average pooling)이 사용된다."
   ],
   "metadata": {}
  },
  {
   "cell_type": "markdown",
   "source": [
    "![최대 풀링 연산(스트라이드 2, 2*2 크기 커널)](../img/cnn16.png)\r\n",
    "- 합성곱 연산과 마찬가지로 커널과 스트라이드 개념을 사용한다.\r\n",
    "- 합성곱 연산과의 차이점\r\n",
    "    - 학습할 가중치가 없다.\r\n",
    "    - 연산 후 채널 수가 변하지 않는다.\r\n",
    "- 맥스 풀링(max pooling) : 커널과 겹치는 영역 내에서 최대값을 추출한다.\r\n",
    "- 평균 풀링(average pooling) : 커널과 겹치는 영역 내에서 평균값을 추출한다."
   ],
   "metadata": {}
  }
 ],
 "metadata": {
  "orig_nbformat": 4,
  "language_info": {
   "name": "python"
  }
 },
 "nbformat": 4,
 "nbformat_minor": 2
}