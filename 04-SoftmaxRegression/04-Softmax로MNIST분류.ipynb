{
 "cells": [
  {
   "cell_type": "markdown",
   "source": [
    "# MNIST 데이터 이해"
   ],
   "metadata": {}
  },
  {
   "cell_type": "markdown",
   "source": [
    "![MNIST](../img/mnist1.png)\r\n",
    "- MNIST : 숫자 0부터 9까지의 이미지로 구성된 손글씨 데이터셋이다. 총 6만개의 훈련 데이터와 레이블, 총 1만개의 테스트 데이터와 레이블로 구성되어 있다.\r\n",
    "- MNIST 문제는 손글씨로 적힌 숫자 이미지가 무슨 숫자인지 맞추는 문제이다."
   ],
   "metadata": {}
  },
  {
   "cell_type": "markdown",
   "source": [
    "![MNIST](../img/mnist2.png)\r\n",
    "- 위 문제를 풀기 위해서는 총 784(28*28픽셀)의 원소를 가진 벡터로 만든다. 총 784개의 특성을 가진 샘플이 된다.\r\n",
    "```py\r\n",
    "for X, Y in data_loader:\r\n",
    "    # 입력 이미지를 [batch_size × 784]의 크기로 reshape\r\n",
    "    # 레이블은 원-핫 인코딩\r\n",
    "    X = X.view(-1, 28*28)\r\n",
    "```"
   ],
   "metadata": {}
  },
  {
   "cell_type": "markdown",
   "source": [
    "# torchvision(토치비전)"
   ],
   "metadata": {}
  },
  {
   "cell_type": "markdown",
   "source": [
    "- torchvision : 유명 데이터셋, 구현된 모델, 일반적인 이미지 전처리 도구들을 포함한 패키지이다. (자연어 처리에 사용되는 torchtext라는 패키지도 존재한다.)"
   ],
   "metadata": {}
  },
  {
   "cell_type": "markdown",
   "source": [
    "# 분류기 구현 사전 설정"
   ],
   "metadata": {}
  },
  {
   "cell_type": "code",
   "execution_count": 2,
   "source": [
    "import torch\r\n",
    "import torchvision.datasets as dsets\r\n",
    "import torchvision.transforms as transforms\r\n",
    "from torch.utils.data import DataLoader\r\n",
    "import torch.nn as nn\r\n",
    "import matplotlib.pyplot as plt\r\n",
    "import random"
   ],
   "outputs": [],
   "metadata": {}
  },
  {
   "cell_type": "code",
   "execution_count": 3,
   "source": [
    "USE_CUDA = torch.cuda.is_available() # GPU를 사용가능하면 True, 아니라면 False를 리턴\r\n",
    "device = torch.device(\"cuda\" if USE_CUDA else \"cpu\") # GPU 사용 가능하면 사용하고 아니면 CPU 사용\r\n",
    "print(\"다음 기기로 학습합니다:\", device)"
   ],
   "outputs": [
    {
     "output_type": "stream",
     "name": "stdout",
     "text": [
      "다음 기기로 학습합니다: cpu\n"
     ]
    }
   ],
   "metadata": {}
  },
  {
   "cell_type": "markdown",
   "source": [
    "- Google Colab에서 사용시 런타임>런타임 유형 변경>하드웨어 가속기>GPU 를 선택하여 GPU 연산을 실행할 수 있다."
   ],
   "metadata": {}
  },
  {
   "cell_type": "code",
   "execution_count": 4,
   "source": [
    "# 랜덤 시드 고정\r\n",
    "random.seed(777)\r\n",
    "torch.manual_seed(777)\r\n",
    "if device == 'cuda':\r\n",
    "    torch.cuda.manual_seed_all(777)"
   ],
   "outputs": [],
   "metadata": {}
  },
  {
   "cell_type": "code",
   "execution_count": 5,
   "source": [
    "# 하이퍼파라미터 변수로 생성\r\n",
    "training_epochs = 15\r\n",
    "batch_size = 100"
   ],
   "outputs": [],
   "metadata": {}
  },
  {
   "cell_type": "markdown",
   "source": [
    "# MNIST 분류기 구현"
   ],
   "metadata": {}
  },
  {
   "cell_type": "code",
   "execution_count": 6,
   "source": [
    "# MNIST dataset\r\n",
    "mnist_train = dsets.MNIST(root='MNIST_data/', train=True, transform=transforms.ToTensor(), download=True)\r\n",
    "mnist_test = dsets.MNIST(root='MNIST_data/', train=False, transform=transforms.ToTensor(), download=True)"
   ],
   "outputs": [
    {
     "output_type": "stream",
     "name": "stdout",
     "text": [
      "Downloading http://yann.lecun.com/exdb/mnist/train-images-idx3-ubyte.gz\n",
      "Downloading http://yann.lecun.com/exdb/mnist/train-images-idx3-ubyte.gz to MNIST_data/MNIST\\raw\\train-images-idx3-ubyte.gz\n"
     ]
    },
    {
     "output_type": "stream",
     "name": "stderr",
     "text": [
      "9913344it [04:51, 34017.82it/s]\n"
     ]
    },
    {
     "output_type": "stream",
     "name": "stdout",
     "text": [
      "Extracting MNIST_data/MNIST\\raw\\train-images-idx3-ubyte.gz to MNIST_data/MNIST\\raw\n",
      "\n",
      "Downloading http://yann.lecun.com/exdb/mnist/train-labels-idx1-ubyte.gz\n",
      "Downloading http://yann.lecun.com/exdb/mnist/train-labels-idx1-ubyte.gz to MNIST_data/MNIST\\raw\\train-labels-idx1-ubyte.gz\n"
     ]
    },
    {
     "output_type": "stream",
     "name": "stderr",
     "text": [
      "29696it [00:00, 322978.44it/s]           \n"
     ]
    },
    {
     "output_type": "stream",
     "name": "stdout",
     "text": [
      "Extracting MNIST_data/MNIST\\raw\\train-labels-idx1-ubyte.gz to MNIST_data/MNIST\\raw\n",
      "\n",
      "Downloading http://yann.lecun.com/exdb/mnist/t10k-images-idx3-ubyte.gz\n",
      "Downloading http://yann.lecun.com/exdb/mnist/t10k-images-idx3-ubyte.gz to MNIST_data/MNIST\\raw\\t10k-images-idx3-ubyte.gz\n",
      "Failed to download (trying next):\n",
      "HTTP Error 503: Service Unavailable\n",
      "\n",
      "Downloading https://ossci-datasets.s3.amazonaws.com/mnist/t10k-images-idx3-ubyte.gz\n",
      "Downloading https://ossci-datasets.s3.amazonaws.com/mnist/t10k-images-idx3-ubyte.gz to MNIST_data/MNIST\\raw\\t10k-images-idx3-ubyte.gz\n"
     ]
    },
    {
     "output_type": "stream",
     "name": "stderr",
     "text": [
      "1649664it [00:01, 1041301.66it/s]                             \n"
     ]
    },
    {
     "output_type": "stream",
     "name": "stdout",
     "text": [
      "Extracting MNIST_data/MNIST\\raw\\t10k-images-idx3-ubyte.gz to MNIST_data/MNIST\\raw\n",
      "\n",
      "Downloading http://yann.lecun.com/exdb/mnist/t10k-labels-idx1-ubyte.gz\n",
      "Downloading http://yann.lecun.com/exdb/mnist/t10k-labels-idx1-ubyte.gz to MNIST_data/MNIST\\raw\\t10k-labels-idx1-ubyte.gz\n"
     ]
    },
    {
     "output_type": "stream",
     "name": "stderr",
     "text": [
      "5120it [00:00, 5048151.50it/s]          \n",
      "C:\\Users\\hcw2l\\AppData\\Local\\Programs\\Python\\Python38\\lib\\site-packages\\torchvision\\datasets\\mnist.py:502: UserWarning: The given NumPy array is not writeable, and PyTorch does not support non-writeable tensors. This means you can write to the underlying (supposedly non-writeable) NumPy array using the tensor. You may want to copy the array to protect its data or make it writeable before converting it to a tensor. This type of warning will be suppressed for the rest of this program. (Triggered internally at  ..\\torch\\csrc\\utils\\tensor_numpy.cpp:143.)\n",
      "  return torch.from_numpy(parsed.astype(m[2], copy=False)).view(*s)\n"
     ]
    },
    {
     "output_type": "stream",
     "name": "stdout",
     "text": [
      "Extracting MNIST_data/MNIST\\raw\\t10k-labels-idx1-ubyte.gz to MNIST_data/MNIST\\raw\n",
      "\n",
      "Processing...\n",
      "Done!\n"
     ]
    }
   ],
   "metadata": {}
  },
  {
   "cell_type": "markdown",
   "source": [
    "- root : 데이터를 다운로드 받을 경로\r\n",
    "- train : True의 경우 훈련 데이터를 리턴 받으며, False의 경우 테스트 데이터를 리턴 받는다.\r\n",
    "- transform : 현재 데이터를 파이토치 텐서로 변환한다.\r\n",
    "- download : 해당 경로에 MNIST 데이터가 없을 경우 다운로드 한다."
   ],
   "metadata": {}
  },
  {
   "cell_type": "code",
   "execution_count": 7,
   "source": [
    "# dataset loader\r\n",
    "data_loader = DataLoader(dataset=mnist_train,\r\n",
    "                        batch_size=batch_size, # 배치 크기 = 100\r\n",
    "                        shuffle=True,\r\n",
    "                        drop_last=True)"
   ],
   "outputs": [],
   "metadata": {}
  },
  {
   "cell_type": "markdown",
   "source": [
    "- dataset : 로드할 대상을 의미한다.\r\n",
    "- batch_size : 배치 크기를 의미한다.\r\n",
    "- shuffle : epoch마다 미니 배치 셔플 여부를 의미한다.\r\n",
    "- drop_last : 마지막 배치를 버릴 것인지 정한다.\r\n",
    "    - dopr_last를 실행하는 이유 : 마지막 배치가 다른 미니 배치보다 개수가 적을 경우 마지막 배치가 경사 하강법에 사용될 때 상대적으로 과대 평가되는 현상을 막기 위함이다."
   ],
   "metadata": {}
  },
  {
   "cell_type": "code",
   "execution_count": 8,
   "source": [
    "# MNIST data image of shape 28 * 28 = 784\r\n",
    "linear = nn.Linear(784, 10, bias=True).to(device)"
   ],
   "outputs": [],
   "metadata": {}
  },
  {
   "cell_type": "markdown",
   "source": [
    "- to() : 연산을 어디서 수행할지 결정한다. (GPU를 사용할 경우 적어줘야 한다.)\r\n",
    "- bias : 편향 b의 사용 여부를 나타낸다."
   ],
   "metadata": {}
  },
  {
   "cell_type": "code",
   "execution_count": 9,
   "source": [
    "# 비용 함수와 옵티마이저 정의\r\n",
    "criterion = nn.CrossEntropyLoss().to(device)\r\n",
    "# torch.nn.functional.cross_entropy(), torch.nn.CrossEntropyLoss() 둘 다 내부적으로 소프트맥스 함수 포함\r\n",
    "optimizer = torch.optim.SGD(linear.parameters(), lr=0.1)"
   ],
   "outputs": [],
   "metadata": {}
  },
  {
   "cell_type": "code",
   "execution_count": 10,
   "source": [
    "for epoch in range(training_epochs): # 15\r\n",
    "    avg_cost = 0\r\n",
    "    total_batch = len(data_loader)\r\n",
    "\r\n",
    "    for X, Y in data_loader:\r\n",
    "        # 배치 크기가 100이므로 아래의 연산에서 X는 (100, 784)의 텐서가 된다.\r\n",
    "        X = X.view(-1, 28 * 28).to(device)\r\n",
    "        # 레이블은 원-핫 인코딩이 된 상태가 아니라 0 ~ 9의 정수.\r\n",
    "        Y = Y.to(device)\r\n",
    "\r\n",
    "        optimizer.zero_grad()\r\n",
    "        hypothesis = linear(X)\r\n",
    "        cost = criterion(hypothesis, Y)\r\n",
    "        cost.backward()\r\n",
    "        optimizer.step()\r\n",
    "\r\n",
    "        avg_cost += cost / total_batch\r\n",
    "\r\n",
    "    print('Epoch:', '%04d' % (epoch + 1), 'cost =', '{:.9f}'.format(avg_cost))\r\n",
    "\r\n",
    "print('Learning finished')"
   ],
   "outputs": [
    {
     "output_type": "stream",
     "name": "stdout",
     "text": [
      "Epoch: 0001 cost = 0.534912527\n",
      "Epoch: 0002 cost = 0.359308630\n",
      "Epoch: 0003 cost = 0.331088215\n",
      "Epoch: 0004 cost = 0.316574216\n"
     ]
    }
   ],
   "metadata": {}
  },
  {
   "cell_type": "code",
   "execution_count": null,
   "source": [
    "# 테스트 데이터를 사용하여 모델을 테스트한다.\r\n",
    "with torch.no_grad(): # torch.no_grad()를 하면 gradient 계산을 수행하지 않는다.\r\n",
    "    X_test = mnist_test.test_data.view(-1, 28 * 28).float().to(device)\r\n",
    "    Y_test = mnist_test.test_labels.to(device)\r\n",
    "\r\n",
    "    prediction = linear(X_test)\r\n",
    "    correct_prediction = torch.argmax(prediction, 1) == Y_test\r\n",
    "    accuracy = correct_prediction.float().mean()\r\n",
    "    print('Accuracy:', accuracy.item())\r\n",
    "\r\n",
    "    # MNIST 테스트 데이터에서 무작위로 하나를 뽑아서 예측을 해본다\r\n",
    "    r = random.randint(0, len(mnist_test) - 1)\r\n",
    "    X_single_data = mnist_test.test_data[r:r + 1].view(-1, 28 * 28).float().to(device)\r\n",
    "    Y_single_data = mnist_test.test_labels[r:r + 1].to(device)\r\n",
    "\r\n",
    "    print('Label: ', Y_single_data.item())\r\n",
    "    single_prediction = linear(X_single_data)\r\n",
    "    print('Prediction: ', torch.argmax(single_prediction, 1).item())\r\n",
    "\r\n",
    "    plt.imshow(mnist_test.test_data[r:r + 1].view(28, 28), cmap='Greys', interpolation='nearest')\r\n",
    "    plt.show()"
   ],
   "outputs": [],
   "metadata": {}
  }
 ],
 "metadata": {
  "orig_nbformat": 4,
  "language_info": {
   "name": "python",
   "version": "3.8.7",
   "mimetype": "text/x-python",
   "codemirror_mode": {
    "name": "ipython",
    "version": 3
   },
   "pygments_lexer": "ipython3",
   "nbconvert_exporter": "python",
   "file_extension": ".py"
  },
  "kernelspec": {
   "name": "python3",
   "display_name": "Python 3.8.7 64-bit"
  },
  "interpreter": {
   "hash": "3019afab00293a1ae281e291b07de184983c2ba180a49ac4e0334f58b45935af"
  }
 },
 "nbformat": 4,
 "nbformat_minor": 2
}