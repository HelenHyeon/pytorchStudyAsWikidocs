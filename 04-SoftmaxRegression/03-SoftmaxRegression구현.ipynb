{
 "cells": [
  {
   "cell_type": "code",
   "execution_count": 1,
   "source": [
    "import torch\r\n",
    "import torch.nn.functional as F\r\n",
    "torch.manual_seed(1)"
   ],
   "outputs": [
    {
     "output_type": "execute_result",
     "data": {
      "text/plain": [
       "<torch._C.Generator at 0x14a95500eb0>"
      ]
     },
     "metadata": {},
     "execution_count": 1
    }
   ],
   "metadata": {}
  },
  {
   "cell_type": "markdown",
   "source": [
    "# 비용함수 구현하기 (로우레벨)"
   ],
   "metadata": {}
  },
  {
   "cell_type": "code",
   "execution_count": 2,
   "source": [
    "z = torch.FloatTensor([1, 2, 3])"
   ],
   "outputs": [],
   "metadata": {}
  },
  {
   "cell_type": "code",
   "execution_count": 3,
   "source": [
    "hypothesis = F.softmax(z, dim=0)\r\n",
    "# 3개의 원소 값이 0과 1사이 값을 가지는 벡터로 변환된다.\r\n",
    "print(hypothesis)"
   ],
   "outputs": [
    {
     "output_type": "stream",
     "name": "stdout",
     "text": [
      "tensor([0.0900, 0.2447, 0.6652])\n"
     ]
    }
   ],
   "metadata": {}
  },
  {
   "cell_type": "code",
   "execution_count": 4,
   "source": [
    "hypothesis.sum() # 3개의 원소의 총 합은 1이다."
   ],
   "outputs": [
    {
     "output_type": "execute_result",
     "data": {
      "text/plain": [
       "tensor(1.)"
      ]
     },
     "metadata": {},
     "execution_count": 4
    }
   ],
   "metadata": {}
  },
  {
   "cell_type": "markdown",
   "source": [
    "### 비용 함수 직접 구현해보기"
   ],
   "metadata": {}
  },
  {
   "cell_type": "code",
   "execution_count": 5,
   "source": [
    "# 비용함수 직접 구현해보기\r\n",
    "z = torch.rand(3, 5, requires_grad=True) # 임의로 3*5 크기의 텐서 구현"
   ],
   "outputs": [],
   "metadata": {}
  },
  {
   "cell_type": "code",
   "execution_count": 6,
   "source": [
    "hypothesis = F.softmax(z, dim=1)\r\n",
    "# 각 샘플에 대해 소프트맥스 함수를 적용해야 하므로\r\n",
    "# 두번째 차원에 대해 소프트맥스 함수를 적용시킨다. (dim=1)\r\n",
    "print(hypothesis)"
   ],
   "outputs": [
    {
     "output_type": "stream",
     "name": "stdout",
     "text": [
      "tensor([[0.2645, 0.1639, 0.1855, 0.2585, 0.1277],\n",
      "        [0.2430, 0.1624, 0.2322, 0.1930, 0.1694],\n",
      "        [0.2226, 0.1986, 0.2326, 0.1594, 0.1868]], grad_fn=<SoftmaxBackward>)\n"
     ]
    }
   ],
   "metadata": {}
  },
  {
   "cell_type": "markdown",
   "source": [
    "- 각 행의 원소들의 합이 1이 되는 텐서로 변환하였다.\r\n",
    "- 위 텐서는 3개의 샘플에 대해 5개의 클래스 중 어떤 클래스가 정답인지 예측한 결과이다."
   ],
   "metadata": {}
  },
  {
   "cell_type": "code",
   "execution_count": 7,
   "source": [
    "# 각 샘플에 대해 임의의 레이블 만들기\r\n",
    "y = torch.randint(5, (3,)).long() # 0~5 사이의 값으로 채워진 3차원 텐서\r\n",
    "print(y)"
   ],
   "outputs": [
    {
     "output_type": "stream",
     "name": "stdout",
     "text": [
      "tensor([0, 2, 1])\n"
     ]
    }
   ],
   "metadata": {}
  },
  {
   "cell_type": "markdown",
   "source": [
    "### 원-핫 인코딩 수행"
   ],
   "metadata": {}
  },
  {
   "cell_type": "code",
   "execution_count": 8,
   "source": [
    "# One-Hot Encoding 수행\r\n",
    "y_one_hot = torch.zeros_like(hypothesis) # 0으로 채워진 3*5 텐서 생성해 y_one_hot에 저장\r\n",
    "y_one_hot.scatter_(1, y.unsqueeze(1), 1)"
   ],
   "outputs": [
    {
     "output_type": "execute_result",
     "data": {
      "text/plain": [
       "tensor([[1., 0., 0., 0., 0.],\n",
       "        [0., 0., 1., 0., 0.],\n",
       "        [0., 1., 0., 0., 0.]])"
      ]
     },
     "metadata": {},
     "execution_count": 8
    }
   ],
   "metadata": {}
  },
  {
   "cell_type": "markdown",
   "source": [
    "- 두번째 줄에서 scatter의 첫번째 인자로 dim=1에 대해 수행하라고 명령한다.\r\n",
    "- 그리고 두번째 인자의 y.unsqueeze(1)을 통해 (3,)의 크기를 가졌던 y 텐서가 (3*1)텐서가 된다.\r\n",
    "    ```py\r\n",
    "    print(y.unsqueeze(1))\r\n",
    "    ```\r\n",
    "    ```\r\n",
    "    tensor(\r\n",
    "        [[0],\r\n",
    "         [2],\r\n",
    "         [1]])\r\n",
    "    ```\r\n",
    "- 세번째 인자에 숫자 1을 넣어 y_unsqeeze(1)이 알려주는 위치에 숫자 1을 넣도록 한다. (연산 뒤에 _를 붙이면 In-place Operation(덮어쓰기 연산)이다.)"
   ],
   "metadata": {}
  },
  {
   "cell_type": "code",
   "execution_count": 9,
   "source": [
    "# y_one_hot의 최종결과\r\n",
    "print(y_one_hot)"
   ],
   "outputs": [
    {
     "output_type": "stream",
     "name": "stdout",
     "text": [
      "tensor([[1., 0., 0., 0., 0.],\n",
      "        [0., 0., 1., 0., 0.],\n",
      "        [0., 1., 0., 0., 0.]])\n"
     ]
    }
   ],
   "metadata": {}
  },
  {
   "cell_type": "markdown",
   "source": [
    "![수식](../img/SR19.png)\r\n",
    "- 위의 소프트맥스 회귀의 비용 함수는 마이너스 부호를 뒤로 빼서 아래와 같이 만들 수 있다.\r\n",
    "![수식](../img/SR24.png)\r\n",
    "- ![수식](../img/SR25.png)는 sum(dim=1)으로 구현하고, ![수식](../img/SR26.png)는 mean()으로 구현한다."
   ],
   "metadata": {}
  },
  {
   "cell_type": "code",
   "execution_count": 10,
   "source": [
    "cost = (y_one_hot * -torch.log(hypothesis)).sum(dim=1).mean()\r\n",
    "print(cost)"
   ],
   "outputs": [
    {
     "output_type": "stream",
     "name": "stdout",
     "text": [
      "tensor(1.4689, grad_fn=<MeanBackward0>)\n"
     ]
    }
   ],
   "metadata": {}
  },
  {
   "cell_type": "markdown",
   "source": [
    "# 비용함수 구현하기 (하이-레벨)"
   ],
   "metadata": {}
  },
  {
   "cell_type": "markdown",
   "source": [
    "## F.softmax() + torch.log() = F.log_softmax()"
   ],
   "metadata": {}
  },
  {
   "cell_type": "code",
   "execution_count": 11,
   "source": [
    "# Low Level\r\n",
    "torch.log(F.softmax(z, dim=1)) # 소프트맥스 함수 출력값에 로그를 씌운다."
   ],
   "outputs": [
    {
     "output_type": "execute_result",
     "data": {
      "text/plain": [
       "tensor([[-1.3301, -1.8084, -1.6846, -1.3530, -2.0584],\n",
       "        [-1.4147, -1.8174, -1.4602, -1.6450, -1.7758],\n",
       "        [-1.5025, -1.6165, -1.4586, -1.8360, -1.6776]], grad_fn=<LogBackward>)"
      ]
     },
     "metadata": {},
     "execution_count": 11
    }
   ],
   "metadata": {}
  },
  {
   "cell_type": "code",
   "execution_count": 12,
   "source": [
    "# High Level\r\n",
    "F.log_softmax(z, dim=1) # PyTorch에서 위 두개의 함수를 결합한 F.log_softmax() 제공"
   ],
   "outputs": [
    {
     "output_type": "execute_result",
     "data": {
      "text/plain": [
       "tensor([[-1.3301, -1.8084, -1.6846, -1.3530, -2.0584],\n",
       "        [-1.4147, -1.8174, -1.4602, -1.6450, -1.7758],\n",
       "        [-1.5025, -1.6165, -1.4586, -1.8360, -1.6776]],\n",
       "       grad_fn=<LogSoftmaxBackward>)"
      ]
     },
     "metadata": {},
     "execution_count": 12
    }
   ],
   "metadata": {}
  },
  {
   "cell_type": "markdown",
   "source": [
    "## F.log_softmax() + F.nll_loss() = F.cross_entropy()"
   ],
   "metadata": {}
  },
  {
   "cell_type": "code",
   "execution_count": 13,
   "source": [
    "# Low Level로 구현한 비용함수\r\n",
    "(y_one_hot * -torch.log(F.softmax(z, dim=1))).sum(dim=1).mean()"
   ],
   "outputs": [
    {
     "output_type": "execute_result",
     "data": {
      "text/plain": [
       "tensor(1.4689, grad_fn=<MeanBackward0>)"
      ]
     },
     "metadata": {},
     "execution_count": 13
    }
   ],
   "metadata": {}
  },
  {
   "cell_type": "code",
   "execution_count": 14,
   "source": [
    "# F.log_softmax() 사용\r\n",
    "(y_one_hot * -F.log_softmax(z, dim=1)).sum(dim=1).mean()"
   ],
   "outputs": [
    {
     "output_type": "execute_result",
     "data": {
      "text/plain": [
       "tensor(1.4689, grad_fn=<MeanBackward0>)"
      ]
     },
     "metadata": {},
     "execution_count": 14
    }
   ],
   "metadata": {}
  },
  {
   "cell_type": "code",
   "execution_count": null,
   "source": [
    "# High Level\r\n",
    "F.nll_loss(F.log_softmax(z, dim=1), y)"
   ],
   "outputs": [],
   "metadata": {}
  },
  {
   "cell_type": "markdown",
   "source": [
    "- F.nll_loss()를 사용할 때는 원-핫 벡터를 넣을 필요없이 바로 실제값을 인자로 사용한다.\r\n",
    "- nll : Negative Log Likelihood\r\n",
    "- nll_loss : F.log_softmax()를 수행한 후 남은 수식들을 수행한다."
   ],
   "metadata": {}
  },
  {
   "cell_type": "code",
   "execution_count": 15,
   "source": [
    "F.cross_entropy(z, y)"
   ],
   "outputs": [
    {
     "output_type": "execute_result",
     "data": {
      "text/plain": [
       "tensor(1.4689, grad_fn=<NllLossBackward>)"
      ]
     },
     "metadata": {},
     "execution_count": 15
    }
   ],
   "metadata": {}
  },
  {
   "cell_type": "markdown",
   "source": [
    "- F.cross_entropy : F.log_softmax()와 F.nll_loss()를 포함한다. 비용 함수에 소프트맥스 함수까지 포함하고 있다."
   ],
   "metadata": {}
  }
 ],
 "metadata": {
  "orig_nbformat": 4,
  "language_info": {
   "name": "python",
   "version": "3.8.7",
   "mimetype": "text/x-python",
   "codemirror_mode": {
    "name": "ipython",
    "version": 3
   },
   "pygments_lexer": "ipython3",
   "nbconvert_exporter": "python",
   "file_extension": ".py"
  },
  "kernelspec": {
   "name": "python3",
   "display_name": "Python 3.8.7 64-bit"
  },
  "interpreter": {
   "hash": "3019afab00293a1ae281e291b07de184983c2ba180a49ac4e0334f58b45935af"
  }
 },
 "nbformat": 4,
 "nbformat_minor": 2
}