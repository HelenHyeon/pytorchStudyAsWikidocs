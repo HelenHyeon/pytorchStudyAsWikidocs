{
 "cells": [
  {
   "cell_type": "markdown",
   "source": [
    "# 다중 클래스 분류 (Multi-class Classification)"
   ],
   "metadata": {}
  },
  {
   "cell_type": "markdown",
   "source": [
    "- **다중 클래스 분류** : 세 개 이상의 답 중 하나를 고르는 문제\r\n",
    "- Ex) 대표적으로 4개의 특성(feature)을 통해 3개의 붓꽃 품종 중 어떤 품종인지 예측하는 문제가 있다.\r\n",
    "    ```\r\n",
    "    SepalLengthCm(x₁)   5.1     4.9     5.8         6.7         5.6\r\n",
    "    SepalWidthCm(x₂)    3.5     3.0     2.6         3.0         2.8\r\n",
    "    PetalLengthCm(x₃)   1.4     1.4     4.0         5.2         4.9\r\n",
    "    PetalWidthCm(x₄)    0.2     0.2     1.2         2.3         2.0\r\n",
    "    Species(y)          setosa  setosa  versicolor  virginica   virginica\r\n",
    "    ```"
   ],
   "metadata": {}
  },
  {
   "cell_type": "markdown",
   "source": [
    "## 로지스틱 회귀 (이진 분류)"
   ],
   "metadata": {}
  },
  {
   "cell_type": "markdown",
   "source": [
    "- 로지스틱 회귀에서 sigmoid 함수는 예측값을 0과 1 사이 값으로 만든다.\r\n",
    "- 스팸 메일 분류기를 예로 들면 출력이 0.75인 경우 스팸일 확률이 75%라는 뜻이고 아닐 확률이 25%라는 뜻이며 두 확률의 총합은 1이 된다.\r\n",
    "![로지스틱 회귀](../img/SR1.png)\r\n",
    "- 가설 : **H(X) = sigmoid(WX + B)**"
   ],
   "metadata": {}
  },
  {
   "cell_type": "markdown",
   "source": [
    "## 소프트맥스 회귀"
   ],
   "metadata": {}
  },
  {
   "cell_type": "markdown",
   "source": [
    "- 소프트맥스 회귀는 각 클래스(선택지)마다 소수 확률을 할당한다. 이는 각 선택지가 정답일 확률로 표현된다.\r\n",
    "- 확률의 총 합은 1이 된다.\r\n",
    "![소프트맥스 회귀](../img/SR2.png)\r\n",
    "- 소프트맥스 회귀는 벡터의 모든 원소의 합이 1이 되도록 원소 값을 변환시키는 소프트맥스 함수를 사용한다.\r\n",
    "- 가설 : **H(X) = softmax(WX + B)**"
   ],
   "metadata": {}
  },
  {
   "cell_type": "markdown",
   "source": [
    "# 소프트맥스 함수 (Softmax function)"
   ],
   "metadata": {}
  },
  {
   "cell_type": "markdown",
   "source": [
    "## 소프트맥스 함수의 이해"
   ],
   "metadata": {}
  },
  {
   "cell_type": "markdown",
   "source": [
    "- k차원의 벡터에서 원소를 z, 클래스가 정답일 확률을 p로 나타낼 때, i번째 p\r\n",
    "![수식](../img/SR3.png)"
   ],
   "metadata": {}
  },
  {
   "cell_type": "markdown",
   "source": [
    "- k=3인 경우 3차원 벡터 z={z₁ z₂ z₃}를 입력 받은 소프트맥스 함수의 출력\r\n",
    "![수식](../img/SR4.png)\r\n",
    "- p₁, p₂, p₃은 각각 1, 2, 3번 클래스가 정답일 확률을 나타낸다.\r\n",
    "- 확률은 각각 0과 1 사이의 값이며 총 합은 1이다."
   ],
   "metadata": {}
  },
  {
   "cell_type": "markdown",
   "source": [
    "- i가 1일때는 virginica, 2일때는 setosa, 3일때는 versicolor일 확률이라고 지정했을 경우의 식\r\n",
    "![수식](../img/SR5.png)"
   ],
   "metadata": {}
  }
 ],
 "metadata": {
  "orig_nbformat": 4,
  "language_info": {
   "name": "python"
  }
 },
 "nbformat": 4,
 "nbformat_minor": 2
}