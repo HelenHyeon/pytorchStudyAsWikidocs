{
 "cells": [
  {
   "cell_type": "markdown",
   "source": [
    "# 모델 클래스로 구현하기"
   ],
   "metadata": {}
  },
  {
   "cell_type": "markdown",
   "source": [
    "- 로지스틱 회귀 모델\r\n",
    "```py\r\n",
    "model = nn.Sequential(\r\n",
    "   nn.Linear(2, 1), # input_dim = 2, output_dim = 1\r\n",
    "   nn.Sigmoid()) # 출력은 시그모이드 함수를 거친다\r\n",
    "```\r\n",
    "- class로 모델 구현\r\n",
    "```py\r\n",
    "class BinaryClassifier(nn.Module):\r\n",
    "    def __init__(self):\r\n",
    "        super().__init__()\r\n",
    "        self.linear = nn.Linear(2, 1)\r\n",
    "        self.sigmoid = nn.Sigmoid()\r\n",
    "\r\n",
    "    def forward(self, x):\r\n",
    "        return self.sigmoid(self.linear(x))\r\n",
    "```\r\n",
    "- class 형태의 모델은 nn.Module을 상속받는다.\r\n",
    "- __init\\__()에서 모델 구조와 동적을 정의하는 생성자를 정의한다.\r\n",
    "- super() 함수를 부르면 nn.Module 클래스의 속성을 가지고 초기화된다.\r\n",
    "- foward() 함수는 forward 연산을 하는 함수로 model 객체를 데이터와 함께 호출하면 자동 실행된다."
   ],
   "metadata": {}
  },
  {
   "cell_type": "markdown",
   "source": [],
   "metadata": {}
  }
 ],
 "metadata": {
  "orig_nbformat": 4,
  "language_info": {
   "name": "python"
  }
 },
 "nbformat": 4,
 "nbformat_minor": 2
}