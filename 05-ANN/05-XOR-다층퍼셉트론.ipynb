{
 "cells": [
  {
   "cell_type": "markdown",
   "source": [
    "# PyTorch로 다층 퍼셉트론 구현하기"
   ],
   "metadata": {}
  },
  {
   "cell_type": "code",
   "execution_count": 1,
   "source": [
    "import torch\r\n",
    "import torch.nn as nn\r\n",
    "import torch.nn.functional as F\r\n",
    "import torch.optim as optim"
   ],
   "outputs": [],
   "metadata": {}
  },
  {
   "cell_type": "code",
   "execution_count": 2,
   "source": [
    "device = 'cuda' if torch.cuda.is_available() else 'cpu'\r\n",
    "\r\n",
    "# for reproductibility\r\n",
    "torch.manual_seed(777)\r\n",
    "if device == 'cuda':\r\n",
    "    torch.cuda.manual_seed(777)"
   ],
   "outputs": [],
   "metadata": {}
  },
  {
   "cell_type": "code",
   "execution_count": 3,
   "source": [
    "# 입출력 정의\r\n",
    "X = torch.FloatTensor([[0, 0], [0, 1], [1, 0], [1, 1]]).to(device)\r\n",
    "Y = torch.FloatTensor([[0], [1], [1], [0]]).to(device)"
   ],
   "outputs": [],
   "metadata": {}
  },
  {
   "cell_type": "code",
   "execution_count": 4,
   "source": [
    "# 다층 퍼셉트론 설계\r\n",
    "model = nn.Sequential(\r\n",
    "    nn.Linear(2, 10, bias=True),\r\n",
    "    nn.Sigmoid(),\r\n",
    "    nn.Linear(10, 10, bias=True),\r\n",
    "    nn.Sigmoid(),\r\n",
    "    nn.Linear(10, 10, bias=True),\r\n",
    "    nn.Sigmoid(),\r\n",
    "    nn.Linear(10, 1, bias=True),\r\n",
    "    nn.Sigmoid()\r\n",
    ").to(device)"
   ],
   "outputs": [],
   "metadata": {}
  },
  {
   "cell_type": "markdown",
   "source": [
    "- 위 인공 신경망의 구조\r\n",
    "    ![인공 신경망](../img/ann.png)"
   ],
   "metadata": {}
  },
  {
   "cell_type": "code",
   "execution_count": 5,
   "source": [
    "criterion = torch.nn.BCELoss().to(device)\r\n",
    "optimizer = torch.optim.SGD(model.parameters(), lr=1) # modified learning rate from 0.1 to 1"
   ],
   "outputs": [],
   "metadata": {}
  },
  {
   "cell_type": "code",
   "execution_count": 6,
   "source": [
    "for epoch in range(10001):\r\n",
    "    optimizer.zero_grad()\r\n",
    "    hypothesis = model(X) # forward\r\n",
    "\r\n",
    "    cost = criterion(hypothesis, Y)\r\n",
    "    cost.backward()\r\n",
    "    optimizer.step()\r\n",
    "\r\n",
    "    if epoch % 100 == 0:\r\n",
    "        print(epoch, cost.item())"
   ],
   "outputs": [
    {
     "output_type": "stream",
     "name": "stdout",
     "text": [
      "0 0.6948983669281006\n",
      "100 0.693155825138092\n",
      "200 0.6931535601615906\n",
      "300 0.6931513547897339\n",
      "400 0.6931493282318115\n",
      "500 0.6931473016738892\n",
      "600 0.6931453943252563\n",
      "700 0.6931434273719788\n",
      "800 0.6931416988372803\n",
      "900 0.6931397914886475\n",
      "1000 0.6931380033493042\n",
      "1100 0.6931361556053162\n",
      "1200 0.6931343078613281\n",
      "1300 0.6931324005126953\n",
      "1400 0.6931304931640625\n",
      "1500 0.6931284666061401\n",
      "1600 0.6931264400482178\n",
      "1700 0.6931242942810059\n",
      "1800 0.6931220889091492\n",
      "1900 0.6931197047233582\n",
      "2000 0.6931172013282776\n",
      "2100 0.6931145191192627\n",
      "2200 0.6931115984916687\n",
      "2300 0.6931084394454956\n",
      "2400 0.6931051015853882\n",
      "2500 0.6931014657020569\n",
      "2600 0.6930974721908569\n",
      "2700 0.6930930018424988\n",
      "2800 0.6930879950523376\n",
      "2900 0.6930825114250183\n",
      "3000 0.6930763721466064\n",
      "3100 0.6930692791938782\n",
      "3200 0.6930612325668335\n",
      "3300 0.6930519342422485\n",
      "3400 0.6930410861968994\n",
      "3500 0.6930283904075623\n",
      "3600 0.6930132508277893\n",
      "3700 0.6929951310157776\n",
      "3800 0.6929728984832764\n",
      "3900 0.6929452419281006\n",
      "4000 0.6929103136062622\n",
      "4100 0.6928649544715881\n",
      "4200 0.6928046941757202\n",
      "4300 0.6927220821380615\n",
      "4400 0.692604124546051\n",
      "4500 0.6924278736114502\n",
      "4600 0.692147970199585\n",
      "4700 0.6916664838790894\n",
      "4800 0.690739631652832\n",
      "4900 0.6886204481124878\n",
      "5000 0.6820824146270752\n",
      "5100 0.6472570300102234\n",
      "5200 0.44957590103149414\n",
      "5300 0.04113069176673889\n",
      "5400 0.009717202745378017\n",
      "5500 0.005030141677707434\n",
      "5600 0.003294900059700012\n",
      "5700 0.002415710361674428\n",
      "5800 0.0018916603876277804\n",
      "5900 0.0015464271418750286\n",
      "6000 0.0013031498529016972\n",
      "6100 0.0011230817763134837\n",
      "6200 0.0009848420741036534\n",
      "6300 0.0008754964219406247\n",
      "6400 0.0007871013367548585\n",
      "6500 0.000714148220140487\n",
      "6600 0.0006530848331749439\n",
      "6700 0.0006012100493535399\n",
      "6800 0.0005566140171140432\n",
      "6900 0.0005179538857191801\n",
      "7000 0.00048405106645077467\n",
      "7100 0.00045418954687193036\n",
      "7200 0.0004275788669474423\n",
      "7300 0.00040381622966378927\n",
      "7400 0.000382498896215111\n",
      "7500 0.0003631646395660937\n",
      "7600 0.0003456493723206222\n",
      "7700 0.00032968466985039413\n",
      "7800 0.00031504686921834946\n",
      "7900 0.0003015868132933974\n",
      "8000 0.00028924489743076265\n",
      "8100 0.0002777527552098036\n",
      "8200 0.000267184863332659\n",
      "8300 0.00025731761706992984\n",
      "8400 0.0002481211849953979\n",
      "8500 0.00023955087817739695\n",
      "8600 0.00023151718778535724\n",
      "8700 0.0002239903260488063\n",
      "8800 0.0002169255749322474\n",
      "8900 0.00021024837042205036\n",
      "9000 0.00020395874162204564\n",
      "9100 0.00019804175826720893\n",
      "9200 0.00019245268777012825\n",
      "9300 0.00018711703887674958\n",
      "9400 0.000182079485966824\n",
      "9500 0.0001773251424310729\n",
      "9600 0.00017274964193347842\n",
      "9700 0.00016847225197125226\n",
      "9800 0.00016431411495432258\n",
      "9900 0.00016037956811487675\n",
      "10000 0.00015665366663597524\n"
     ]
    }
   ],
   "metadata": {}
  },
  {
   "cell_type": "markdown",
   "source": [
    "# 학습된 다층 퍼셉트론 테스트"
   ],
   "metadata": {}
  },
  {
   "cell_type": "code",
   "execution_count": 7,
   "source": [
    "with torch.no_grad():\r\n",
    "    hypothesis = model(X)\r\n",
    "    predicted = (hypothesis > 0.5).float()\r\n",
    "    accuracy = (predicted == Y).float().mean()\r\n",
    "    print('모델의 출력값(Hypothesis): ', hypothesis.detach().cpu().numpy())\r\n",
    "    print('모델의 예측값(Predicted): ', predicted.detach().cpu().numpy())\r\n",
    "    print('실제값(Y): ', Y.cpu().numpy())\r\n",
    "    print('정확도(Accuracy): ', accuracy.item())"
   ],
   "outputs": [
    {
     "output_type": "stream",
     "name": "stdout",
     "text": [
      "모델의 출력값(Hypothesis):  [[1.1176888e-04]\n",
      " [9.9982870e-01]\n",
      " [9.9984217e-01]\n",
      " [1.8543568e-04]]\n",
      "모델의 예측값(Predicted):  [[0.]\n",
      " [1.]\n",
      " [1.]\n",
      " [0.]]\n",
      "실제값(Y):  [[0.]\n",
      " [1.]\n",
      " [1.]\n",
      " [0.]]\n",
      "정확도(Accuracy):  1.0\n"
     ]
    }
   ],
   "metadata": {}
  }
 ],
 "metadata": {
  "orig_nbformat": 4,
  "language_info": {
   "name": "python",
   "version": "3.8.7",
   "mimetype": "text/x-python",
   "codemirror_mode": {
    "name": "ipython",
    "version": 3
   },
   "pygments_lexer": "ipython3",
   "nbconvert_exporter": "python",
   "file_extension": ".py"
  },
  "kernelspec": {
   "name": "python3",
   "display_name": "Python 3.8.7 64-bit"
  },
  "interpreter": {
   "hash": "3019afab00293a1ae281e291b07de184983c2ba180a49ac4e0334f58b45935af"
  }
 },
 "nbformat": 4,
 "nbformat_minor": 2
}