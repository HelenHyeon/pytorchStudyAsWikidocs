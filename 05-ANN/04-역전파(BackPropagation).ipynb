{
 "cells": [
  {
   "cell_type": "markdown",
   "source": [
    "# 인공 신경망 (Neural Network)"
   ],
   "metadata": {}
  },
  {
   "cell_type": "markdown",
   "source": [
    "- 예제 설명\r\n",
    "    - 입력층, 은닉층, 출력층 총 3개의 층을 가진다.\r\n",
    "    - 각각 두개의 입력, 출력과 은닉층 뉴런을 사용한다.\r\n",
    "    - 은닉층과 출력층의 모든 뉴런은 시그모이드 함수를 활성화 함수로 사용한다.\r\n",
    "    - 인공 신경망에 존재하는 모든 가중치 W에 대해서 역전파를 통해 업데이트하는 것을 목표로 한다.\r\n",
    "    - 편향 b는 고려하지 않는다."
   ],
   "metadata": {}
  },
  {
   "cell_type": "markdown",
   "source": [
    "![인공 신경망 예시](../img/BP.png)\r\n",
    "- z : 아직 시그모이드 함수를 거치치 않은 이전층의 가중합을 의미하며, 은닉층과 출력층의 모든 뉴런에 존재한다. 즉, 활정화 함수의 입력이다.\r\n",
    "- h(또는 o) : z가 시그모이드 함수를 지난 후의 값으로 각 뉴런의 출력값을 의미한다."
   ],
   "metadata": {}
  },
  {
   "cell_type": "markdown",
   "source": [
    "# 순전파 (Forward Propagation)"
   ],
   "metadata": {}
  },
  {
   "cell_type": "markdown",
   "source": [
    "![순전파img](../img/BP1.png)\r\n",
    "- 파란색 숫자 : 입력값, 빨간색 숫자 : 각 가중치 값\r\n",
    "1. 각 입력은 입력층->은닉층 방향으로 향한다. 입력은 각각 해당하는 가중치와 곱해지고 가중합으로 계산되어 은닉층 뉴런의 시그모이드 함수 입력값(z₁, z₂)이 된다.\r\n",
    "    - z₁ = 0.8\r\n",
    "2. z₁, z₂는 시그모이드 함수의 입력값이 되며 그 결과값이 h₁, h₂에 해당한다.\r\n",
    "    - h₁ = sigmoid(z₁) = 0.51998934\r\n",
    "3. h₁, h₂는 각각 해당하는 가중치와 곱해져 출력층의 뉴런으로 향하고 가중합 되어 뉴런의 시그모이드 함수 입력값이 된다.\r\n",
    "4. z₃, z₄이 출력층 뉴런에서 시그모이드 함수를 지나 최종 출력값(예측값)이 된다.\r\n",
    "    - o₁ = sigcoid(z₃)\r\n",
    "5. 예측값과 실제값의 오차를 계산하기 위한 오차 함수를 선택해야 한다. 오차를 계산하기 위한 솔실 함수로 평균 제곱 오차(MSE)를 사용한다.\r\n",
    "    - target : 실제값, output : 예측값, Etotal : 전체 오차\r\n",
    "    ![오차 계산](../img/BP2.png)"
   ],
   "metadata": {}
  },
  {
   "cell_type": "markdown",
   "source": [
    "# 역전파 1단계 (BackPropagation)"
   ],
   "metadata": {}
  },
  {
   "cell_type": "markdown",
   "source": [],
   "metadata": {}
  }
 ],
 "metadata": {
  "orig_nbformat": 4,
  "language_info": {
   "name": "python"
  }
 },
 "nbformat": 4,
 "nbformat_minor": 2
}